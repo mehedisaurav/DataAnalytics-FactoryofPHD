{
  "nbformat": 4,
  "nbformat_minor": 0,
  "metadata": {
    "colab": {
      "name": "Facebook Data Analytics_Mehedi.ipynb",
      "version": "0.3.2",
      "provenance": [],
      "include_colab_link": true
    },
    "kernelspec": {
      "name": "python3",
      "display_name": "Python 3"
    }
  },
  "cells": [
    {
      "cell_type": "markdown",
      "metadata": {
        "id": "view-in-github",
        "colab_type": "text"
      },
      "source": [
        "<a href=\"https://colab.research.google.com/github/mehedisaurav/DataAnalytics-FactoryofPHD/blob/master/Facebook_Data_Analytics_Mehedi.ipynb\" target=\"_parent\"><img src=\"https://colab.research.google.com/assets/colab-badge.svg\" alt=\"Open In Colab\"/></a>"
      ]
    },
    {
      "cell_type": "code",
      "metadata": {
        "id": "DenMdTi51qlF",
        "colab_type": "code",
        "outputId": "9834ef21-4016-4e52-c944-cc1d985a34d7",
        "colab": {
          "base_uri": "https://localhost:8080/",
          "height": 190
        }
      },
      "source": [
        "!pip install facebook-sdk\n",
        "import requests\n",
        "import facebook\n",
        "import numpy as np\n",
        "import pandas\n",
        "\n",
        "app_id = '2276589625991203'\n",
        "app_secret = 'acba912fb29af1f9a88142c4f6a8c1f4'\n",
        "user_long_token = 'EAAgWi9P04CMBAI3vf6A20tsZAz1UO1Y1ZCNedBaDJdK97jBPPtoKb1yZBmWJ1cvZBHhEA3ZC2WecPrUsnNSCaBXaP4MmbsFbsWQZC8VXBFMyRMJVsLVXzBGX5FPtrZBtJZATQKtTSwO7ckJV4Yz7ZCzGukScvMt4CGiXEakt0weUBbAZDZD'\n",
        "\n",
        "graph = facebook.GraphAPI(access_token=user_long_token, version=\"2.8\")"
      ],
      "execution_count": 0,
      "outputs": [
        {
          "output_type": "stream",
          "text": [
            "Collecting facebook-sdk\n",
            "  Downloading https://files.pythonhosted.org/packages/79/d7/4cb0f5930f79205cc45db22e17fa716396d813c3d6b8d5de77783a5fa59a/facebook_sdk-3.1.0-py2.py3-none-any.whl\n",
            "Requirement already satisfied: requests in /usr/local/lib/python3.6/dist-packages (from facebook-sdk) (2.21.0)\n",
            "Requirement already satisfied: urllib3<1.25,>=1.21.1 in /usr/local/lib/python3.6/dist-packages (from requests->facebook-sdk) (1.24.3)\n",
            "Requirement already satisfied: idna<2.9,>=2.5 in /usr/local/lib/python3.6/dist-packages (from requests->facebook-sdk) (2.8)\n",
            "Requirement already satisfied: chardet<3.1.0,>=3.0.2 in /usr/local/lib/python3.6/dist-packages (from requests->facebook-sdk) (3.0.4)\n",
            "Requirement already satisfied: certifi>=2017.4.17 in /usr/local/lib/python3.6/dist-packages (from requests->facebook-sdk) (2019.3.9)\n",
            "Installing collected packages: facebook-sdk\n",
            "Successfully installed facebook-sdk-3.1.0\n"
          ],
          "name": "stdout"
        }
      ]
    },
    {
      "cell_type": "code",
      "metadata": {
        "id": "4Qz0hRzCtGWd",
        "colab_type": "code",
        "colab": {}
      },
      "source": [
        ""
      ],
      "execution_count": 0,
      "outputs": []
    },
    {
      "cell_type": "markdown",
      "metadata": {
        "id": "aA7bI2HqtE1n",
        "colab_type": "text"
      },
      "source": [
        "# New Section"
      ]
    },
    {
      "cell_type": "code",
      "metadata": {
        "id": "rBFtKMX71umr",
        "colab_type": "code",
        "colab": {}
      },
      "source": [
        "feeds = graph.request('/249281981787004/feed?limit=500&until=2013-01-01&since=2012-01-01')\n"
      ],
      "execution_count": 0,
      "outputs": []
    },
    {
      "cell_type": "code",
      "metadata": {
        "id": "JFsFSR3S10j1",
        "colab_type": "code",
        "outputId": "ed9cf0fb-f30d-491a-db28-2e555e37c9b7",
        "colab": {
          "base_uri": "https://localhost:8080/",
          "height": 34
        }
      },
      "source": [
        "len(feeds)"
      ],
      "execution_count": 0,
      "outputs": [
        {
          "output_type": "execute_result",
          "data": {
            "text/plain": [
              "2"
            ]
          },
          "metadata": {
            "tags": []
          },
          "execution_count": 3
        }
      ]
    },
    {
      "cell_type": "code",
      "metadata": {
        "id": "YQ0J0t3FU2Qg",
        "colab_type": "code",
        "outputId": "8817a17b-3f74-4afc-cf46-029c0c68dc56",
        "colab": {
          "base_uri": "https://localhost:8080/",
          "height": 204
        }
      },
      "source": [
        "df = pandas.DataFrame(feeds['data'])\n",
        "#print(df.iloc[:,1:3])\n",
        "\n",
        "df.head()\n",
        "#len(df)"
      ],
      "execution_count": 0,
      "outputs": [
        {
          "output_type": "execute_result",
          "data": {
            "text/html": [
              "<div>\n",
              "<style scoped>\n",
              "    .dataframe tbody tr th:only-of-type {\n",
              "        vertical-align: middle;\n",
              "    }\n",
              "\n",
              "    .dataframe tbody tr th {\n",
              "        vertical-align: top;\n",
              "    }\n",
              "\n",
              "    .dataframe thead th {\n",
              "        text-align: right;\n",
              "    }\n",
              "</style>\n",
              "<table border=\"1\" class=\"dataframe\">\n",
              "  <thead>\n",
              "    <tr style=\"text-align: right;\">\n",
              "      <th></th>\n",
              "      <th>id</th>\n",
              "      <th>message</th>\n",
              "      <th>updated_time</th>\n",
              "    </tr>\n",
              "  </thead>\n",
              "  <tbody>\n",
              "    <tr>\n",
              "      <th>0</th>\n",
              "      <td>249281981787004_454868831228317</td>\n",
              "      <td>NaN</td>\n",
              "      <td>2012-12-31T20:25:15+0000</td>\n",
              "    </tr>\n",
              "    <tr>\n",
              "      <th>1</th>\n",
              "      <td>249281981787004_454834887898378</td>\n",
              "      <td>Happy Happy new year.....2013 @ all my Siss .....</td>\n",
              "      <td>2012-12-31T20:09:48+0000</td>\n",
              "    </tr>\n",
              "    <tr>\n",
              "      <th>2</th>\n",
              "      <td>249281981787004_454455221269678</td>\n",
              "      <td>Plz... report this page... ALL OF YOU!!!</td>\n",
              "      <td>2012-12-30T20:34:17+0000</td>\n",
              "    </tr>\n",
              "    <tr>\n",
              "      <th>3</th>\n",
              "      <td>249281981787004_454438101271390</td>\n",
              "      <td>খ্রিস্টীয় বছরের শেষ দিন ৩১ ডিসেম্বর অর্থাৎ সোম...</td>\n",
              "      <td>2012-12-30T19:38:25+0000</td>\n",
              "    </tr>\n",
              "    <tr>\n",
              "      <th>4</th>\n",
              "      <td>249281981787004_454436927938174</td>\n",
              "      <td>NaN</td>\n",
              "      <td>2012-12-30T19:35:13+0000</td>\n",
              "    </tr>\n",
              "  </tbody>\n",
              "</table>\n",
              "</div>"
            ],
            "text/plain": [
              "                                id  ...              updated_time\n",
              "0  249281981787004_454868831228317  ...  2012-12-31T20:25:15+0000\n",
              "1  249281981787004_454834887898378  ...  2012-12-31T20:09:48+0000\n",
              "2  249281981787004_454455221269678  ...  2012-12-30T20:34:17+0000\n",
              "3  249281981787004_454438101271390  ...  2012-12-30T19:38:25+0000\n",
              "4  249281981787004_454436927938174  ...  2012-12-30T19:35:13+0000\n",
              "\n",
              "[5 rows x 3 columns]"
            ]
          },
          "metadata": {
            "tags": []
          },
          "execution_count": 4
        }
      ]
    },
    {
      "cell_type": "code",
      "metadata": {
        "id": "XRXQlht8U-Fi",
        "colab_type": "code",
        "outputId": "932f1837-bae1-465f-efda-11d09ef78fc4",
        "colab": {
          "base_uri": "https://localhost:8080/",
          "height": 187
        }
      },
      "source": [
        "!pip install langdetect"
      ],
      "execution_count": 0,
      "outputs": [
        {
          "output_type": "stream",
          "text": [
            "Collecting langdetect\n",
            "\u001b[?25l  Downloading https://files.pythonhosted.org/packages/59/59/4bc44158a767a6d66de18c4136c8aa90491d56cc951c10b74dd1e13213c9/langdetect-1.0.7.zip (998kB)\n",
            "\u001b[K     |████████████████████████████████| 1.0MB 4.9MB/s \n",
            "\u001b[?25hRequirement already satisfied: six in /usr/local/lib/python3.6/dist-packages (from langdetect) (1.12.0)\n",
            "Building wheels for collected packages: langdetect\n",
            "  Building wheel for langdetect (setup.py) ... \u001b[?25l\u001b[?25hdone\n",
            "  Stored in directory: /root/.cache/pip/wheels/ec/0c/a9/1647275e7ef5014e7b83ff30105180e332867d65e7617ddafe\n",
            "Successfully built langdetect\n",
            "Installing collected packages: langdetect\n",
            "Successfully installed langdetect-1.0.7\n"
          ],
          "name": "stdout"
        }
      ]
    },
    {
      "cell_type": "code",
      "metadata": {
        "id": "vEdVcZZGVEjp",
        "colab_type": "code",
        "outputId": "393f3c19-8443-4a4c-c449-ba31eeb93c2b",
        "colab": {
          "base_uri": "https://localhost:8080/",
          "height": 34
        }
      },
      "source": [
        "from langdetect import detect\n",
        "\n",
        "english_data = []\n",
        "print(len(df))\n",
        "count=0\n",
        "for d in df['message'][:-1]:\n",
        "  \n",
        "  if (len(str(d)) > 0) and (d != 'nan'):\n",
        "    try:\n",
        "      lang = detect(str(d))\n",
        "      if lang == 'en':\n",
        "        #print('english')\n",
        "        english_data.append(df.iloc[count])\n",
        "        \n",
        "    except:pass \n",
        "  count+=1  \n",
        "\n",
        "    "
      ],
      "execution_count": 0,
      "outputs": [
        {
          "output_type": "stream",
          "text": [
            "500\n"
          ],
          "name": "stdout"
        }
      ]
    },
    {
      "cell_type": "code",
      "metadata": {
        "id": "E6Tsm1rwl9DI",
        "colab_type": "code",
        "colab": {}
      },
      "source": [
        ""
      ],
      "execution_count": 0,
      "outputs": []
    },
    {
      "cell_type": "code",
      "metadata": {
        "id": "NZqeIDVyVV5I",
        "colab_type": "code",
        "colab": {}
      },
      "source": [
        "english_data = pandas.DataFrame(english_data)"
      ],
      "execution_count": 0,
      "outputs": []
    },
    {
      "cell_type": "code",
      "metadata": {
        "id": "4Olenf9NcPro",
        "colab_type": "code",
        "outputId": "167140c2-2a17-453d-92f1-cf47deffc8d3",
        "colab": {
          "base_uri": "https://localhost:8080/",
          "height": 204
        }
      },
      "source": [
        "english_data.head()"
      ],
      "execution_count": 0,
      "outputs": [
        {
          "output_type": "execute_result",
          "data": {
            "text/html": [
              "<div>\n",
              "<style scoped>\n",
              "    .dataframe tbody tr th:only-of-type {\n",
              "        vertical-align: middle;\n",
              "    }\n",
              "\n",
              "    .dataframe tbody tr th {\n",
              "        vertical-align: top;\n",
              "    }\n",
              "\n",
              "    .dataframe thead th {\n",
              "        text-align: right;\n",
              "    }\n",
              "</style>\n",
              "<table border=\"1\" class=\"dataframe\">\n",
              "  <thead>\n",
              "    <tr style=\"text-align: right;\">\n",
              "      <th></th>\n",
              "      <th>id</th>\n",
              "      <th>message</th>\n",
              "      <th>updated_time</th>\n",
              "    </tr>\n",
              "  </thead>\n",
              "  <tbody>\n",
              "    <tr>\n",
              "      <th>1</th>\n",
              "      <td>249281981787004_454834887898378</td>\n",
              "      <td>Happy Happy new year.....2013 @ all my Siss .....</td>\n",
              "      <td>2012-12-31T20:09:48+0000</td>\n",
              "    </tr>\n",
              "    <tr>\n",
              "      <th>2</th>\n",
              "      <td>249281981787004_454455221269678</td>\n",
              "      <td>Plz... report this page... ALL OF YOU!!!</td>\n",
              "      <td>2012-12-30T20:34:17+0000</td>\n",
              "    </tr>\n",
              "    <tr>\n",
              "      <th>7</th>\n",
              "      <td>249281981787004_454422497939617</td>\n",
              "      <td>Aj CSE dept. er pre-registration..11 am to 5 p...</td>\n",
              "      <td>2012-12-30T18:50:36+0000</td>\n",
              "    </tr>\n",
              "    <tr>\n",
              "      <th>8</th>\n",
              "      <td>249281981787004_454241854624348</td>\n",
              "      <td>may this can change our mind...</td>\n",
              "      <td>2012-12-30T08:23:50+0000</td>\n",
              "    </tr>\n",
              "    <tr>\n",
              "      <th>13</th>\n",
              "      <td>249281981787004_453492121365988</td>\n",
              "      <td>dear UIU friends...\\n\\ndon't you feel like tha...</td>\n",
              "      <td>2012-12-28T20:02:43+0000</td>\n",
              "    </tr>\n",
              "  </tbody>\n",
              "</table>\n",
              "</div>"
            ],
            "text/plain": [
              "                                 id  ...              updated_time\n",
              "1   249281981787004_454834887898378  ...  2012-12-31T20:09:48+0000\n",
              "2   249281981787004_454455221269678  ...  2012-12-30T20:34:17+0000\n",
              "7   249281981787004_454422497939617  ...  2012-12-30T18:50:36+0000\n",
              "8   249281981787004_454241854624348  ...  2012-12-30T08:23:50+0000\n",
              "13  249281981787004_453492121365988  ...  2012-12-28T20:02:43+0000\n",
              "\n",
              "[5 rows x 3 columns]"
            ]
          },
          "metadata": {
            "tags": []
          },
          "execution_count": 50
        }
      ]
    },
    {
      "cell_type": "code",
      "metadata": {
        "id": "Vosj2OwJjjRn",
        "colab_type": "code",
        "colab": {}
      },
      "source": [
        ""
      ],
      "execution_count": 0,
      "outputs": []
    },
    {
      "cell_type": "code",
      "metadata": {
        "id": "XdFKpfNZkUAu",
        "colab_type": "code",
        "outputId": "3fc345d7-e955-4ec1-a060-fd3da44ad86d",
        "colab": {
          "base_uri": "https://localhost:8080/",
          "height": 122
        }
      },
      "source": [
        "# Run this cell to mount your Google Drive.\n",
        "from google.colab import drive\n",
        "drive.mount('/content/drive')"
      ],
      "execution_count": 0,
      "outputs": [
        {
          "output_type": "stream",
          "text": [
            "Go to this URL in a browser: https://accounts.google.com/o/oauth2/auth?client_id=947318989803-6bn6qk8qdgf4n4g3pfee6491hc0brc4i.apps.googleusercontent.com&redirect_uri=urn%3Aietf%3Awg%3Aoauth%3A2.0%3Aoob&scope=email%20https%3A%2F%2Fwww.googleapis.com%2Fauth%2Fdocs.test%20https%3A%2F%2Fwww.googleapis.com%2Fauth%2Fdrive%20https%3A%2F%2Fwww.googleapis.com%2Fauth%2Fdrive.photos.readonly%20https%3A%2F%2Fwww.googleapis.com%2Fauth%2Fpeopleapi.readonly&response_type=code\n",
            "\n",
            "Enter your authorization code:\n",
            "··········\n",
            "Mounted at /content/drive\n"
          ],
          "name": "stdout"
        }
      ]
    },
    {
      "cell_type": "code",
      "metadata": {
        "id": "cXTFZKLImJlM",
        "colab_type": "code",
        "colab": {}
      },
      "source": [
        "english_data.to_csv(\"fb_data.csv\")"
      ],
      "execution_count": 0,
      "outputs": []
    },
    {
      "cell_type": "code",
      "metadata": {
        "id": "MCWSQJg_myxh",
        "colab_type": "code",
        "colab": {}
      },
      "source": [
        "from google.colab import files\n",
        "files.download(\"fb_data.csv\")"
      ],
      "execution_count": 0,
      "outputs": []
    },
    {
      "cell_type": "code",
      "metadata": {
        "id": "n6bgNFsyn5dJ",
        "colab_type": "code",
        "outputId": "ae2c9627-6a85-424e-e13d-5ad611631e2d",
        "colab": {
          "resources": {
            "http://localhost:8080/nbextensions/google.colab/files.js": {
              "data": "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",
              "ok": true,
              "headers": [
                [
                  "content-type",
                  "application/javascript"
                ]
              ],
              "status": 200,
              "status_text": ""
            }
          },
          "base_uri": "https://localhost:8080/",
          "height": 111
        }
      },
      "source": [
        "files.upload()"
      ],
      "execution_count": 0,
      "outputs": [
        {
          "output_type": "display_data",
          "data": {
            "text/html": [
              "\n",
              "     <input type=\"file\" id=\"files-d69a2b3a-2109-4dcb-a154-a15bc2b95dd6\" name=\"files[]\" multiple disabled />\n",
              "     <output id=\"result-d69a2b3a-2109-4dcb-a154-a15bc2b95dd6\">\n",
              "      Upload widget is only available when the cell has been executed in the\n",
              "      current browser session. Please rerun this cell to enable.\n",
              "      </output>\n",
              "      <script src=\"/nbextensions/google.colab/files.js\"></script> "
            ],
            "text/plain": [
              "<IPython.core.display.HTML object>"
            ]
          },
          "metadata": {
            "tags": []
          }
        },
        {
          "output_type": "stream",
          "text": [
            "Saving fb_data.csv to fb_data (1).csv\n"
          ],
          "name": "stdout"
        },
        {
          "output_type": "execute_result",
          "data": {
            "text/plain": [
              "{'fb_data.csv': b',id,message,updated_time\\n1,249281981787004_454834887898378,\"Happy Happy new year.....2013 @ all my Siss ..Bros...& ..Fnds\\n\\nBst wishes.....:D\",2012-12-31T20:09:48+0000\\n2,249281981787004_454455221269678,Plz... report this page... ALL OF YOU!!!,2012-12-30T20:34:17+0000\\n7,249281981787004_454422497939617,Aj CSE dept. er pre-registration..11 am to 5 pm...,2012-12-30T18:50:36+0000\\n8,249281981787004_454241854624348,may this can change our mind...,2012-12-30T08:23:50+0000\\n13,249281981787004_453492121365988,\"dear UIU friends...\\n\\ndon\\'t you feel like that our UIU website should be more smart and updated?\\ndon\\'t you feel that it does not go with our image at all?\\ndon\\'t you feel that it is high time to make it updated ?\\n\\nplease share your thoughts....\",2012-12-28T20:02:43+0000\\n16,249281981787004_453214391393761,Agamikal financial accounting 1  Makeup class sec: NN> time: 9.00am- 10.30am. campus 1 room no:112,2012-12-28T05:44:17+0000\\n18,249281981787004_452828058099061,\"Bhiya, EEE final registration date ta please. . . . . . .\",2012-12-26T18:56:17+0000\\n28,249281981787004_451212998260567,\"\"\"Ami ja bujhata chaichi ta bujhata bartho hoichi.Nijer ruti-ruji ta lathi marar moto ato boro durshahos amer nai\"\"...Nowshin Nahrin & Adnan Faruk Hillol...Media producer association er boykot er decision er potikriai akti interview ta ai comment koran tara...Tara aro bolan last 1 year tader relation er kotha media jura acha.Tara mona koran ai relation er shuvo porinoti khub early hoba....\",2012-12-22T18:18:51+0000\\n30,249281981787004_451210884927445,\"10:45 pm.........Earthquake .....\\nDhaka soho desh er bivinno place a rata hotat kapa otha.er utpotti esthol chilo Myanmar...ati 5.5 scale a affect kora...kono khoy-khotir news pawa jai ni akhono...\",2012-12-22T18:12:15+0000\\n35,249281981787004_450673244981209,\"Breaking News...\\nCSE-211,Object oriented programing language er kal ker purbo ghoshito make up class cancel kora hoicha.Prof. Dr. Monzurur Rahman sir kichu khon aga a news ti nischito korachan.Monday thaka regular time a class hoba bola tini janan.\",2012-12-21T13:23:03+0000\\n36,249281981787004_450010401714160,\"Make Up schedule....\\n04.12.12 er (9 am to 12:05 pm) make up 24.12.12 (12:10 to 6:20 pm)\\n04.12.12 er (12:10 pm to 6:20 pm) make up 27.12.12 (12:10 to 6:20 pm)\\nCSE-211-Object Oriented Programing language-22.12.12 (12:10 to 1:40 pm) \\n\\n***Notun kono make up schedule daya hoba na...Kono class baki thakla shai shob course er instructor nijarai ta thik korban...Shutro UIU kortipokho....\",2012-12-21T12:19:02+0000\\n37,249281981787004_450579094990624,\"\"\"Yes! its 21th December !! The CHORABALI day!!! I was waiting for this day ..in my whole life..in my whole career. Finally my first feature film is releasing today ... My first baiby :) CHORABALI .. um so tensed, so nervous,n so excited ...\\nPlz vai-bon-bondhura .. Cinema Hall e CHORABALI dekhun .. True comments amake janan.. Apnader comments er jonno ami opekkha korsi.. Valo lagle amar sarajiboner porisrom sharthok bole mone korbo...aj mukti pacche DHAKA(Star Cineplex,Balaka,Sony,Modhumita)Savar(Sena Savar),NARAYONGONJ(Metro),TONGI(Chompakoli),JOYDEPUR(Borsha),MAYMONSING(Purubi),CHALA sirajgong(Rajonigondha)\"\"........Redwan Rony,Directer of \"\"chora bali\"\" movie.\",2012-12-21T07:02:17+0000\\n39,249281981787004_450175008364366,\"PLAYER AUCTION of BPL....\\n\\nCATEGORY - GOLDEN (FOREIGN):\\n\\nShahid Afridi to Dhaka Gladiators for $275,000\\nImran Nazir to Chittagong Kings for $280,000\\nSaeed Ajmal to Barisal Burners to $115,000\\nLuke Wright to Dhaka Gladiators for $75,000\\nOwais Shah to Dhaka Gladiators for $75,000\\nTino Best to Sylhet Royals for $75,000\\nDimitri Mascarenhas - UNSOLD\\nAndre Russell to Sylhet Royals for $115,000\\nDwayne Bravo to Chittagong Kingsfor $115,000\\nSunil Narine to Barisal Burners for $75,000\\nShaun Tait - UNSOLD\\nAlfonso Thomas - UNSOLD\\nFidel Edwards to Rangpur Riders for $75,000\\nDirk Nannes - UNSOLD\\nTillekaratne Dilshan to Dhaka Gladiators for $75,000\\nBrad Hodge to Barisal Burners for $125,000\\nLasith Malinga to Dhaka Gladiatorsto $115,000\\nShoaib Malik to Khulna Royal Bengals for $85,000\\nMarlon Samuels to Duronto Rajshahi for $115,000\\nAzhar Mahmood to Barisal Burners for \\xe2\\x82\\xac206,000\",2012-12-20T06:36:53+0000\\n40,249281981787004_450174638364403,\"PLAYER AUCTION of BPL....\\nShakib Al Hasan to Dhaka Gladiators for $365,000\\nMahmudullah Riyad to Chittagong Kings for $125,000\\nTamim Iqbal to Duronto Rajshahi for $165,000\\nMushfiqur Rahim to Sylhet Royals for $205,000\\n\\nCongratulation ! Tigers\",2012-12-20T06:34:48+0000\\n41,249281981787004_450030538378813,Catch the LIVE PLAYER AUCTION of BPL - 2 on CHANNEL NINE in the morning at 10 o\\'clock!,2012-12-19T21:29:44+0000\\n43,249281981787004_450004985048035,\"Kal Dhaka city ta ordho dibos & Rongpur bada 62 district a purno dibos hortal...\\n12 ti islamic dol er daka hortal er karona kal ker shob class cancel kora hoicha...but ordho dibos  hortal er news ti pora declare howai notun condition bibachona kora kal bikala make up class hoba kina sha bapara UNB pokho thaka kono sure news janata perchi na.Tai apner course er teacher der shatha kotha bola class er baperti jana naya uchit.\",2012-12-19T20:11:23+0000\\n45,249281981787004_449495181765682,\"Shit bercha...\\nShokal thakai ghono kuwashai dhaka poracha shara desh...Shiter tibrotao bercha...Desh er aj sorboccho temperature Dhaka ta 15 deg. & Sorboninmo temperature Dinajpur 11 deg.\",2012-12-18T19:05:22+0000\\n46,249281981787004_449493841765816,\"Kal 19 December Rajshahi & Sylhet a hortal er dak deacha jamayat....\\nDhaka ta hortal na thakai kal University ta regular class hober baper ta sompurno nischito....\",2012-12-18T18:47:28+0000\\n49,249281981787004_449037561811444,\"21 December....Friday\\nUIU CSE picnic\\nBangladesh Utshob in Ramna chattar\\n\"\"Chora Bali\"\" movie \\n..............................................................Apni konta choose korchan?...\",2012-12-17T17:31:35+0000\\n50,249281981787004_449031971812003,\"Bijoy Nishan...\\nUIU auditorium a UIU cultural club er poribashonai bijoy utshob korlo UIU students ra...Deshattobodhok gan,nach r natoka desh & desh er culture ka tula dhora hoi vinno angika.Rat obdhi stage matia rakha UIU young star ra...\",2012-12-17T17:11:33+0000\\n52,249281981787004_449021685146365,\"Apnader obogotir jonno janachi...\\nUNB ja shokol news dai ta shompurno nischito hoya dai...Aj Monday class hoba ki hoba na amon kono nischito news UNB dai ni.Jara bolchan aj class na hober kotha UNB bolcha,ta shompurno mitha....R CSE-211 er class hoba na boler porao sir class a jaber bishoy ti sir er upor depend kora.Amra ja jani,shatai janai... Apnader shokolar shohojogita,amader agamir pothchola ...Thank u...\",2012-12-17T16:40:15+0000\\n53,249281981787004_448605788521288,\"Breaking News...\\nKal Monday Object Oriented Programing class cancel kora hoicha.Prof. Dr. Monzurur Rahman sir kichu khon aga ata nischito korachan...Ai dika 12:10 pm a advance programing language er class ti sir jotharity niban bola janiachan.\",2012-12-17T16:05:17+0000\\n55,249281981787004_448582655190268,Kal hortal er vitor class holao Object oriented programing class na hota para...Sir er TA (Sajid vaia) a dhoroner kothai janiachan...Toba sir er shatha kotha bolta na parai nischito janata perchi na...,2012-12-16T15:26:04+0000\\n58,249281981787004_448261651889035,Enjoy Bangladesh Utshob Live on Ntv..........,2012-12-15T20:13:58+0000\\n62,249281981787004_448087765239757,Bhiya............Make up class ar routine ta please...........,2012-12-15T15:51:56+0000\\n68,249281981787004_446923795356154,Kal kono class hoba na...UIU authority nischito korcha....,2012-12-13T10:40:54+0000\\n75,249281981787004_446549615393572,\"\\xe0\\xa6\\x95\\xe0\\xa6\\xbe\\xe0\\xa6\\xb2 \\xe0\\xa6\\xb8\\xe0\\xa6\\xbe\\xe0\\xa6\\x95\\xe0\\xa6\\xbf\\xe0\\xa6\\xac\\xe0\\xa7\\x87\\xe0\\xa6\\xb0 \\xe0\\xa6\\xac\\xe0\\xa6\\xbf\\xe0\\xa6\\xaf\\xe0\\xa6\\xbc\\xe0\\xa7\\x87\\xe0\\xa6\\xa4\\xe0\\xa7\\x87 \\xe0\\xa6\\x95\\xe0\\xa7\\x87\\xe0\\xa6\\x89 \\xe0\\xa6\\xaf\\xe0\\xa6\\xbe\\xe0\\xa6\\x9a\\xe0\\xa7\\x8d\\xe0\\xa6\\x9b\\xe0\\xa7\\x87\\xe0\\xa6\\xa8?\\nThe world\\xe2\\x80\\x99s best all-rounder Shakib Al Hasan has decided to begin a new innings in his life on 12.12.12. Shakib will tie the knot with Umme Ahmed Shishir, who is a Bangladeshi American citizen, studying computer science in Minnesota, USA.\\n\\nJoin with the Mrs Shakib Al Hasan and wish them in advance!\\nUNB family pokho thakao shuvo kamona roylo............................\",2012-12-11T15:02:40+0000\\n77,249281981787004_446477762067424,\"Breaking News...\\n13 December Brihospotiber shara desh a  6 am thaka 2 pm hortal deacha 18 dolio jot.BNP leader Tarikul islam nischito korachan.\",2012-12-11T11:52:22+0000\\n78,249281981787004_446472968734570,\"Bhiya, any routine for final exam. . . . . . ,  (EEE) sub 103 104 201 102 & 101\",2012-12-11T11:32:16+0000\\n79,249281981787004_446458352069365,\"News update...\\nBisshojit hottai jorito 5 jon durbitto jader name newspaper a pokashito hoicha tader 24 hours er vitor arrest korar nirdesh diacha Adalot.\",2012-12-11T10:34:51+0000\\n83,249281981787004_446424698739397,\"Hortal a chatro ligue er Show down...Chatro ligue er voya nogorbashi ghora bondi...\\nXclusive....\",2012-12-11T07:53:49+0000\\n86,249281981787004_445270548854812,\"anyone knows ,is ther any make up class on this monday ??\",2012-12-10T19:14:13+0000\\n88,249281981787004_446223008759566,\"Fall semester 1 week berta para...\\nShamprotik rajnitik osthirota bibachona kora Fall\\'12 er semester ak week barano hota para.A news ti senior onek teacher nischito korchan.Toba akhono kono notice daya hoi ni.\",2012-12-10T19:07:45+0000\\n89,249281981787004_446222365426297,\"Make up class Schedule...\\n16.12.12 er (9 am to 12:05 pm) make up 17.12.12 (12:10 to 3:15 pm)\\n16.12.12 er (12:10 pm to 6:20 pm) make up 20.12.12 (12:10 to 6:20 pm)\\n04.12.12 er (9 am to 12:05 pm) make up 24.12.12 (12:10 to 6:20 pm)\\n04.12.12 er (12:10 pm to 6:20 pm) make up 27.12.12 (12:10 to 6:20 pm)\\n***Sutro-UIU kortipokho....UNB present.\",2012-12-10T19:05:16+0000\\n93,249281981787004_445431052172095,Collected............,2012-12-09T05:45:22+0000\\n95,249281981787004_445390295509504,\"Bangladesh er cricket voktora akhon onek annondo korlao miss korchan desh shara all rounder Sakib Al Hasan ka...kintu mojer baper hocha tini akhon Bia nia busy...12.12.12 tai ter bia !....Ami sure UNB family er onek female members der mon vanga gacha ai news pora..kotha ta mitha noi...totally shotto..Patrir name Shisir...\\nUNB family pokho thakha Sakib Al Hasan er jonno Shuvo kamona roylo.\",2012-12-08T19:05:07+0000\\n97,249281981787004_445344988847368,kalker sob class ki cancel? plz confirm me..thank u,2012-12-08T18:25:45+0000\\n98,249281981787004_445275748854292,\"Breaking News...\\nKal ker shob class cancel korcha uiu kortipokho...Desh er shamprotik udbodho situation bibachona kora ai decision naya hoicha.Bikala UNB ka class cancel er baper ti nischito kora hoi.Toba uiu er official shokol kaj cholba.\\n*** A bapara kono notice publish kora hoi ni.\",2012-12-08T13:40:46+0000\\n99,249281981787004_445011152214085,Desh boranno music directer Soukot ali Emon er upor shokol ovijog  shiker korachan...Onaka remand a nia jiggashabad kora hola okopota ta shiker koran.Porbortita Ramna thana tai Emon-zinath er bia somponno hoi....Apato dristy ta shokol problem er ending holao Ayni jotilotai atka achan Emon...R ter dorshok/family chokha & media jogota kalo chaya aklan ai star...,2012-12-07T20:10:53+0000\\n100,249281981787004_445001132215087,\"Aki dina TV ta movie trailer & music video trailer er premier....\\n\"\"Chora Bali\"\" by Redwan Rony er movie 21 December ascha.Tai er official trailer aj Massranga tv ta premier holo.Ata Eras jaker,Hridoy khan,Joya Ahsan & directer akta funny adda program a er premier koran.Tara movie tir success er bapara shober shojogita kamona koranchan...Opordika desh er first music video album er music video trailer telecast korlo Rtv...Ullakho ata desh er shob chay big budget er album.Ata  Nobel,Nirob & Lux super star rakhi  ka song er model hishaba dakha jaba.\",2012-12-07T19:33:45+0000\\n101,249281981787004_444992958882571,\"Breaking News...18 December shokal-shondha Hortal\\nAbero hortal er fada porlo desh.Jamayat-Shibir rajnity nishiddho korar dabita agami 18 December hortal er dak deacha CPB & Bashod.\",2012-12-07T19:05:25+0000\\n102,249281981787004_444631988918668,\"Bohul shomalochito ovinatri Prova ter husband shoho accident korchan...Prova akhon Apollo hospital a chikitshadhin acha\\n\\n\",2012-12-06T20:03:26+0000\\n103,249281981787004_444630265585507,\"Class schedule biporjoi...\\nUIU ta 6 days class in week process er bivranty ta porlo uiu kortipokho...25 December Tuesday er make up nita ai problem tairy hoi...yesterday CSE er 3 ti class nia conflict tairy hoi...A poshonga CSE dept. teacher Faisal Kabir sir bolan class kon ta kokhon hoba ter question ottonto jotil...toba next semester a problem er oboshan hoba bola shobai ashabadi....\",2012-12-06T19:45:58+0000\\n104,249281981787004_444155268966340,odesk in our campus !,2012-12-05T15:25:53+0000\\n115,249281981787004_443422949039572,\"Summer semester admission result published...\\n188 students are getting chance to admitted from school of science & engineering.\",2012-12-03T18:58:50+0000\\n116,249281981787004_443417975706736,\"CSE-212,Object oriented programing lab...\\nLab assignment code submission date expanded which will be next Tuesday.\\nNoticed by Manju sir.\",2012-12-03T18:39:03+0000\\n117,249281981787004_443417469040120,Aj 4 December Tuesday shara desh a jamayat hortal er dak diacha..Rata BNP er shomorthon dai..............UIU kortipokho 6 PM porjonto a bapara kono notice janai nai...Toba Hortal er karona shob class oghoshito chuti hoba bola onek gulo sutro nischito korcha.,2012-12-03T18:36:51+0000\\n118,249281981787004_443028492412351,\"Emergency blood needed...\\nBlood group-AB+\\ncontact-01681476516(Masud) or me\\n\\nIt\\'s urgent...\",2012-12-02T18:03:12+0000\\n123,249281981787004_442962892418911,\"Polard ka bata bola jobab dilo tigers ra...Bangladesh cricket history ta shob chay boro joy ...160 Runs....UNB pokho thaka tigers der ovinondon\\n\\n\",2012-12-02T14:39:23+0000\\n124,249281981787004_442959049085962,\"Ajka khulna ta khala cholakala ak female dorsok ka ask kora hoichilo...\"\"Who is ur favourite player in BD team?\"\"...ter reply chilo amon..\"\"I told that Tamim Iqbal my favourite player\"\"...aber ask kora holo \"\"Who is ur favourite bowler in BD team\"\"...Ter reply chilo...\"\"Tamim Iqbal\"\".......\",2012-12-02T14:37:36+0000\\n126,249281981787004_442158372499363,\"Singer Ayub Bachchu has right now been shifted from CCU to cabin....He is already on his way to recovery and will be home within two or three days InshaAllah. \\xe2\\x80\\x94 at Square Hospital, Panthapath...\",2012-11-30T14:41:15+0000\\n127,249281981787004_442157555832778,\"Waiting is over!!Only one hour remaining for the very first episode of CloseUp1 Bangladesh, 2012 to go on air. Keep your eyes on NTV.\",2012-11-30T14:38:42+0000\\n131,249281981787004_441606665887867,\"Close up-1 tomakai khucha bangladesh...TV telecast on 30 Nov,9:15 pm..\\nOnly on Ntv...\",2012-11-30T08:07:10+0000\\n134,249281981787004_441042545944279,Kal ker CSE-211 er class sthogito....,2012-11-27T19:15:41+0000\\n140,249281981787004_440327572682443,Porshu Jatiyio shok dibos ghosona hota para...Government er ak sutro nischito korcha.,2012-11-25T17:16:58+0000\\n141,249281981787004_440215272693673,\"((BAD NEWS))\\nShakib Al Hasan will\\nmiss first two ODIs!!\\nShakib had an MRI scan\\non his right tibia bone in\\nKhulna yesterday after\\nthe close of play on Day\\n4 of the second Test.\\nThe scan showed a\\nstress reaction of the\\nbone.\",2012-11-25T10:09:16+0000\\n142,249281981787004_440211922694008,\"Shampotik shomoyer shob chay voyaboho ognikando ghotlo Asholia Nischinto pur er Tazrin Garments a,Mriter number shotadhik...Oi dika Chittagong a fly over dhos er ghotonai 14 jon mara gacha.....UNB family ai hotahoter ghotonai ghovir shok prokas korcha....\",2012-11-25T09:52:58+0000\\n147,249281981787004_439596652755535,\"Asian TV is looking for some young new faces (Male/Female) for their upcoming programs, Interested applicants are cordially requested to drop their CV at Asian TV premises. Thanks\",2012-11-23T14:01:58+0000\\n148,249281981787004_439349252780275,\"Humayun sir jonmodina Impress tale film limited arrange kora \"\"Humayun Mala\"\"..Himu dibosha...UIU members ra join koran ai program a...\\n\\n***Collected\",2012-11-22T20:13:49+0000\\n149,249281981787004_439347976113736,\"Read Attentively...It\\'s urgent...\\n\\n***Collected\",2012-11-22T20:09:07+0000\\n150,249281981787004_439347636113770,\"25 November Pobitro Ashura upolokha UIU er shokol class & office close thakba...\\nMonday thaka regular class er pasha-pashi Slot-1 er make up class hoba 12:10 pm thaka...Tacharao IPE-401,Sec-A er 24 Nov er class 26 Nov 3:20 pm hoba (Room will be same)...\",2012-11-22T20:07:45+0000\\n153,249281981787004_438173309564536,Recently Sakib-Al-Hasan er ai picture gulo fb ta publish hota dakha jacha...Er aga DJ Sonika er shatha ak picture publish hober por bangladesh er shara player bolan karo shatha picture tullai kichu mean kora thik na.Voktoder request mathai rakhai cholta hoi...Akhon hotat ai picture publish howai kichuta bibroto tini...Toba ata true or false jatai howk na kano amader 16 koti jonoter chawa sakib ter shara dia every cricket match a mat dapaban....R star der nia amon gunjon aga holao amon gunjon kora ki thik ja amader desh ka negatively represent kora?,2012-11-19T14:12:55+0000\\n155,249281981787004_436857346362799,Kal thaka mid-1 start hocha...EEE/ETE/CSE/CTE dept.,2012-11-15T15:15:37+0000\\n157,249281981787004_436712323043968,\"Naeem Islam jumps on high after getting his maiden International test hundred. He is gone for 108. Well played Naeem!.........Now Bangladesh scored above 400 against West indis ...\\n\\nCongratulation tigers...!.....Special thanks to Nayeem....From UNB\",2012-11-15T10:21:17+0000\\n158,249281981787004_436507419731125,Porag akhon Square hospital a...,2012-11-14T20:29:37+0000\\n159,249281981787004_436496329732234,\"Brave Man Campaign\\nThe Brave Men Campaign is an initiative to encourage men and boys, specifically young men and boys, and the society in general, to say no to Violence Against Women \\n***Collected from Jubair bin iqbal\",2012-11-14T19:50:59+0000\\n160,249281981787004_436489569732910,\"Aj class hoba...\\nKal Friday thaka mid exam..but university schedule onujai aj shokol class hoba...Ja shokol course er teacher ra class cancel korcha tara ta agai janiacha...\",2012-11-14T19:38:17+0000\\n161,249281981787004_436466636401870,\"vaia, UIU theke ki Microsoft er registered widows CD pawa jay? AIUB er moto?...\",2012-11-14T18:25:11+0000\\n162,249281981787004_436465503068650,mid(Algorithm Lab Sec-B) == <DateTime?>,2012-11-14T18:20:54+0000\\n163,249281981787004_435241626524371,Any shedule of Mid term exams. . . . . . . . . . (EEE),2012-11-14T12:20:45+0000\\n172,249281981787004_434041693311031,\"Aj make up class of 23 Oct (9 am-12 pm) slot...\\nIndustrial management class-(3:20-4:20 pm) at room 111\",2012-11-07T21:06:36+0000\\n173,249281981787004_434040113311189,\"Jatiyo nirbachon er voter halnagat er chobi tolar date cholcha ...\\naj kalabagan thana er chobi tola & halnagat er karjaboli shmponno hoba dhanmondi primary school,2nd line,kalabagan,dhaka..Sutro: Central election commition office\\n\\n*** Apner voter area halnagat er date janan to...?\",2012-11-07T21:00:50+0000\\n174,249281981787004_434033813311819,\"\"\"2022 katara world cup football khalba bangladesh\"\"...BAFUFA president Kazi salauddin...shopno dakhata gia hotobak korar moto news dilan bangladesh football er kornodher...jadin ai shopner jal bunchan tini shadin bangladesh team ranking dui dhap nicha namacha..akhon bangladesh er ranking 171....\",2012-11-07T20:38:06+0000\\n177,249281981787004_432954576753076,\"Course code:401,Industrial management,Section-A\\n 8 Nov special solving class (12:10-3:15)\\n10 Nov CT-2 on lecture-5,8,9\",2012-11-04T19:46:45+0000\\n181,249281981787004_431518443563356,\"\"\"Ami to prama pori ni,Prem amer upora poracha...Scandale ka honestly face korar jonnoi bia kora...Jodi karo mona hoi amer bia karo kacha kharap hoicha,tader onurod korbo apnara amer song sunun,personal life nia vaber dorker nai\"\"...Eid live studio concert a singer Arfin Rumi....Recently ter bia er bapara dorshok er ak comments er reply dan ai singer...Ullakho last rojer Eid er concert a ter \"\"priyotoma\"\" song utshorgo koran ter first wife ka.But ajker concert a family bishoya open minded rumi boroi nischup chilo...\",2012-10-31T19:26:42+0000\\n182,249281981787004_431519760229891,\"Eid er por 1st class...\\nEid er 5th day tai class.Shokal thakai students der campus a asta dakha jai.EEE dept. a 90% present holao CSE dept. a present chilo 40%.BBA ta students der ana gonao chilo.Toba onek course er class cancel kora hoi...Mona kora hocha class er shavabik environment asta sunday porjonto wait kora lagba.\",2012-10-31T19:19:38+0000\\n183,249281981787004_431043880277479,\"Dorshok der onuroda aber telacast hocha Humayun sir shes movie \"\"Ghatoputro Komola\"\"...aj 8 pm..only on channel 9\",2012-10-31T16:56:21+0000\\n184,249281981787004_430787260303141,Kal 31 October thaka class start hoba...,2012-10-29T20:37:28+0000\\n185,249281981787004_429567503758450,\"Kal Eid-Ul-Azaha...\\nUNB family pokho thaka UNB shokol members der janai Eid er shubacha.Apner Eid nia asuk shukh, shanty & onabil adonto....EID MUBARAK\",2012-10-26T16:27:29+0000\\n186,249281981787004_429355643779636,\"Not \\'running the bulls\\' like Spain... this is Bangladeshi style :)\\nmanage to get loose for couple of minutes...Photo: Banglar Chokh\",2012-10-26T08:58:10+0000\\n190,249281981787004_428778740503993,Interview of Hanif Sonket...,2012-10-24T13:47:39+0000\\n193,249281981787004_428153720566495,\"\\xe0\\xa6\\x88\\xe0\\xa6\\xa6\\xe0\\xa7\\x87 \\xe0\\xa6\\x86\\xe0\\xa6\\xb8\\xe0\\xa6\\x9b\\xe0\\xa6\\xbf \\'\\xe0\\xa6\\x9c\\xe0\\xa6\\xa8\\xe0\\xa6\\x97\\xe0\\xa6\\xa3\\xe0\\xa7\\x87\\xe0\\xa6\\xb0 \\xe0\\xa6\\xa4\\xe0\\xa6\\xbe\\xe0\\xa6\\xb0\\xe0\\xa6\\x95\\xe0\\xa6\\xbe\\xe0\\xa6\\xa6\\xe0\\xa7\\x87\\xe0\\xa6\\xb0\\' \\xe0\\xa6\\xb8\\xe0\\xa6\\x99\\xe0\\xa7\\x8d\\xe0\\xa6\\x97\\xe0\\xa7\\x87 \\xe0\\xa6\\xa8\\xe0\\xa6\\xbf\\xe0\\xa7\\x9f\\xe0\\xa7\\x87...!\\nPEOPLES\\' STAR@channel 9\\neid day evening 7.10 pm\\n\\nconcept TANVEER KHAN\\nscripting & host SAIKOT SALAHUDDIN\\nguest GOLAM MAULA RONY,MRS.KAMRUNNAHAR RUNU,MAHI B CHOUDHRY,MRS. ASHFAH HAQUE\\nproducer MAHFUJUR RAHMAN\\nphoto by ZAKIR HOSSAIN\",2012-10-22T19:55:56+0000\\n194,249281981787004_428151407233393,22th oct....udjapito hoi uiu ta...,2012-10-22T19:45:58+0000\\n195,249281981787004_428147827233751,\"Chuti...Chuti ...Chuti....\\nSharodio durga utshob & Eid Ul Azha upolokha aj 23 oct -30 oct UIU chuty thakba...31 oct thaka class start hoba...Ai dika 22 tarik dupurer por thakai campus student sunno hota start koracha...\",2012-10-22T19:31:41+0000\\n196,249281981787004_428144720567395,Rumi Afroza.....Congratulation to u...Bkos u r the 200 th member of this group....UNB family pokho thaka apni & group er shokol members der ovinondon.Apnader shojogita amader agaimir poth chola...Shobaika thanks...,2012-10-22T19:28:23+0000\\n198,249281981787004_427800430601824,Interview of M A Jolil Ononto..,2012-10-21T21:04:03+0000\\n199,249281981787004_427769107271623,\"Amaka onakai call kora ask korcha \"\"vaia,kal ki class hoba?\"\"...Tader uddasha bolchi University calender onushara class hoba...toba kono course er class cancel hola shai course er instructor janaban....CSE-211(Object oriented programing) class hoba bola Monju sir last week janiachan...\",2012-10-21T20:23:19+0000\\n202,249281981787004_427268377321696,\"Aj thaka Sharodio -Durga utshob shuru hocha....\\nHindu dhormalombi shokol members der UNB family pokho thaka sharodio shubacha....Apnader utshober din gulo howk bornil,sundor & annonda pori purno...\",2012-10-20T07:44:50+0000\\n203,249281981787004_426984344016766,\"BTCL er call charge 0.10 taka.\\n\\n\",2012-10-19T14:02:59+0000\\n205,249281981787004_426912174023983,\"Mobile Re-charge a birombona...Monday er aga nistar nai...\\nMobile re-charge a 50 taka per thousand taka er dabita mobile recharge babosaik somity yesterday thaka shara desh a 4 days er jonno mobile re-charge off kora dai.Er poripakhita shara desh er mobile grahok bapok birombona shommokhin hocha.Er aga area based strike thaklao akhon asta asta khothor kormosuchita jacha bola janiacha re-charge babosai ra...\",2012-10-19T08:45:26+0000\\n206,249281981787004_426747510707116,\"This is the group where we can share news updates of inside uiu as well as outside of the world.It keeps us to easy & comfortable life.\\n***  Copy & paste of group news is totally forbidden ... \",2012-10-18T20:24:54+0000\\n210,249281981787004_426143040767563,\"NEW MEMBER COLLECTION for UIU Career Counseling Centre (RENESA)reer Counseling Centre (RENESA)REER COUSELING CENTER (RENESA) On 15 no and 27 no. campus at ground floor BOOTH. We organize lots of seminar with national and multinational Corporates in our campus.Through this seminar, we introduce ourselves with Higher ranking people. We also arrange Demand-able training with professional trainer and HR . We already had arranged National Job fair on UIU where more than 27 companies were attended\\nLots of training will be started........\\nAS Soon as possible to join with us.\\ntomorrow ,18th October will be our last date\\n12.30 is our end time for registration\\nRegistration Fees: 50 tk.\\ntomorrow our meeting will be held and we will message u(member)\\nthank U.\\nfor more Info:01673677796(JAKIR) Coordinator OF UIU Career Counseling Centre (RENESA)reer Counseling Centre (RENESA).\",2012-10-17T17:48:21+0000\\n211,249281981787004_426288114086389,\"Want to be a Windows Phone/Windows 8 Apps Developer ??\\nBut don\\'t have any idea??\\nWant to learn Basic C#????\\n\\nThan this is for YOU!!!!!\\n\\n.......::::::::::::::::::::::::::::::::::::::::::::::::::::.......\\n\\nIntroduction to C# and Winodows Phone App development\\nOCTOBER, 20 3.00pm\\n@ United International University campus 1\\nFor more information (ex. Room number): Hasnaeen Ferdous: 01673008333\\n\\nRegistration:\\nhttps://docs.google.com/spreadsheet/viewform?userstoinvite=shuranjana.uiu.cse%40gmail.com&formkey=dEVRQ3R0QnRfbGsyMm00N25kb0oyYnc6MQ#gid=0\\n\\n.......::::::::::::::::::::::::::::::::::::::::::::::::::::.......\",2012-10-17T16:07:29+0000\\n214,249281981787004_425979654117235,27 October Eid-Ul-Azha...Ai dika 23 October thaka 8 days er durga puja & eid er chuty ghoshona korlo uiu.Jodio er aga 24 tarik thaka a chuty karjokor hober kotha chilo.31 tarik thaka regular class cholba...Ullakho last Eid-ul-Fitre a 11 days holy days chilo.,2012-10-16T18:28:28+0000\\n215,249281981787004_425805297468004,\"Aber alochonai Mahar Afroj shawon....\\n\\n\",2012-10-16T05:43:14+0000\\n219,249281981787004_424825544232646,\"23 October chuty hota para...\\nSharodio durga utshob & Eid-Ul-Azhar chuty ak din barta para.Akta bishes sutro nischito korcha.Kintu official vaba kichui janano hoi ni.Asa kora hocha,Next week chutir bapara final decision janano hoba.\",2012-10-14T16:45:30+0000\\n223,249281981787004_424467934268407,\"Shakib\\'s Ranking :\\n\\nTest Batsman : 30th\\nTest Bowler : 13th\\nTest Allrounder : 1st\\n\\nODI Batsman : 11th\\nODI Bowler : 8th\\nODI Allrounder : 1st\\n\\nT20 Batsman : 39th\\nT20 Bowler : 13th\\nT20 Allrounder : 4th\",2012-10-12T12:34:54+0000\\n225,249281981787004_424259087622625,\"Friday TV program ...\\n-Diamond world channel I performance award at 2:30 pm on channel I\\n-Ittadi  at 8:30 pm on BTV\\nR massranga ta dakhun Opakha....\",2012-10-11T19:39:01+0000\\n228,249281981787004_423283551053512,\"Operation stop for need of\\nblood..Very emergency A+ blood\\nneeded for a patient come from\\nfeni..he need 2 bag A+ blood at\\nkakril islami bank hospital,Dhaka\\n(09.10.2012.).. Are you interested\\nto save a life by donate A+ blood\\nplz contact with Alam:\\n01817703472...p lz fnd from feni\\nneed response..also fnd plz shire\\nthis\",2012-10-08T21:37:58+0000\\n229,249281981787004_423282574386943,\"www.unicampuz.com\\n\\nThe members of UIU is only 43...\\nThanks to join with us...I hope u will visit here,using facilities & add ur friends.I request to my campus mate use this site for education.Here,u can upload any course book in library which we can read together.Besides,we can upload class lectures in unpluged.I hope it will make us easy to study...Thank u....\",2012-10-08T21:29:00+0000\\n231,249281981787004_423248577723676,\"Object oriented programing....\\nNext class..Thus-12:10 -1:40 pm...Room is not fixed...\",2012-10-08T19:36:16+0000\\n233,249281981787004_423248161057051,\"***ATTENTION PLEASE***\\n\\nJamdani sharee, Fazlee mango is no more a part of our heritage as India has already patented these products...In future if you export these in other countries, you have to pay India royalty as they have already patented these though strongly we believe these are our products. These are part of our heritage...now India trying to patent HILSHA as their own which they import from us !! What if our Royal Bengal Tiger turns into Royal Indian Tiger !! All we need to solve these problems is to enact GEOGRAPHICAL INDICATIONS ACT!\\n\\nRAISE YOUR VOICE...!!\\nSupport the cause ! Foster your economy !\\n\\nNB - You \\'re cordially requested to share this Message. Your one share means a lot to our country.\",2012-10-08T19:34:28+0000\\n234,249281981787004_422854744429726,\"Dhaliud industry ta M.A Jolil ononto er name ta bas porichito..bises kora ter vul uccharon nia facebook a bapok alochona-shomalochona start hoi....But mojer baper hocha aber ata nia tale-film hocha...jer name \"\"Pom Gona\"\"\",2012-10-07T18:37:37+0000\\n235,249281981787004_422852604429940,33 years por World cup joy er shad palo West Indies.....,2012-10-07T18:31:20+0000\\n238,249281981787004_422053561176511,\"Fasha galan suronjit...Railway durnity ovijog er bapara montry APS faruk er driver er shikarokti...Shuronjit er bashai jachilo shai 70 lac taka\\n\\nExclusive news by RTV\\n\\n\",2012-10-05T19:33:15+0000\\n241,249281981787004_421822324532968,Shahid Afridi breaks his bat and Helmet in dressing room due to depression of his recent form......Srilanker kacha porajoy manta percha na pak sibir.,2012-10-04T20:31:29+0000\\n242,249281981787004_421819721199895,\"Nabila channel i shara nachia holan Tushar & Mim\\n2nd prothoma,3rd Mondira\\n\\n// UNB family pokho thaka tader ovinondon.\",2012-10-04T20:26:50+0000\\n243,249281981787004_421820824533118,\"Aj friday tao bristy hoba...bolcha weather office...\\nBihospotiber bikala akash jhora bristy start hoi.R a bristy friday thaker possibility acha.Jana gacha a porjonto Kustia ta record poriman bristy hoyacha.\",2012-10-04T20:22:29+0000\\n244,249281981787004_421424624572738,\"BNP noyapolton office akhono oboruddho...\\nBNP Noyapolton office police er bastoni ghara.Noyapolton area ta a muhurta 5 platon police acha.BNP office tala bodho thaklao vitora Ruhul kobir rizve shoho senior natara royochan,,,journalist der dharona rat vor chor-police ai natok cholba.\",2012-10-03T19:54:57+0000\\n245,249281981787004_421425001239367,\"CSI-211...object oriented programing..\\naj kono class hocha na.Monday 12:10 PM class\",2012-10-03T19:21:33+0000\\n247,249281981787004_421077561274111,\"News now...\\nBNP karjaloy oboruddho kora rakhacha police...shondhar por thaka noya polton thaka akadhik grafter er news acha........\\n\\n\\\\\\\\ oi area ta cholachol korta apner id card carry korun,notuba police hoyranir shiker hota paran.....jono shochatonai UNB.\",2012-10-02T19:41:54+0000\\n248,249281981787004_420744697974064,\"Object oriented class nia confusion akhono kata nai...\\nApatoto time fixed- Mon 12:10-1:40 & Thu 3:20-4:50\",2012-10-01T19:56:22+0000\\n249,249281981787004_420248694690331,\"Need blood. grp AB -ve,for my Mami. pls response as soon as possible. Location Dhanmondi, Shankar. contact number 01748474017\",2012-10-01T18:39:10+0000\\n251,249281981787004_420422041339663,\"Akti bishes ghoshona...\\nUNB family shatha thaker jonno apnader thanks.Amader university education ka aro easy & comfortable korar jonno amra ai website ti use korta pari.Ami shobai ka onurod korbo amader course material er softcopy akhana upload korun jata apni nija upokrito hober pasha pashi apner friends ra upokrito hota para.Ullakho,Amer nijer course gulor material upload korchi.Apnader jader dorker plse collect kora nita paran.I hope apnarao amaka sohojogita korban.\\n\\nFill up ur registration first....Book softcopy is available in book self or library  & Class softcopy is available in unplug of my profile.\\n\\n\",2012-09-30T20:46:12+0000\\n252,249281981787004_420398434675357,Aj Monday 12:10 pm..object oriented programing class...Room number is not declared..May be 212...,2012-09-30T19:31:09+0000\\n253,249281981787004_420399474675253,\"Hajaro rong er vira lal shobuj er bij buna jai...\\n13 years paria 14 year a pa dilo desh er onno tomo private tv channel i.Nirapakho news,sustho entertainment,krisir proshara,notun protiva sristy ta channel i dorshok der mon kara nai.\\n\\nChannel I er protistha barshiki ta UNB pokho thaka shuvo kamona thaklo..\",2012-09-30T19:29:20+0000\\n254,249281981787004_420011804714020,\"Semester er first day chilo aj...\\nEvery course ai student er present 99% er moto...toba probas poth a id card nia jhama pohata hoi student der...tobuo utshob amej chilo uiu jura...Library ta Id card a akhon duti tag lagata hoi.A dhoroner kichu rules a student der matha talgol pakiacha bota...\",2012-09-29T18:59:13+0000\\n257,249281981787004_419391931442674,\"Fall semester er course drop without fine  er last date chilo aj....\\nkichu kichu course a student kom thakai section drop hoicha.Shagulo hocha.........\\nCSE-113=>sec-B\\nCSE-315=>sec-B\\nCSE-313=>sec-A\\nCSI-233=>sec-B\",2012-09-27T19:38:52+0000\\n259,249281981787004_419066928141841,\"Jahangir Nogor university,Buet er por Eden collage uttopto...\\nRata hall sit bishoya student-teacher shomojota na hoyai Eden collage a bapok vangchur chalai student ra...collage principal Rowshon Ara oborudho...\",2012-09-26T19:07:46+0000\\n260,249281981787004_419066398141894,\"Bangladesh er pothito josa journalist Ataus Samad rat 9:25 pm rajdhanir Apollo hospital a intakal koran...(Inna lilaha....Rajiun)...Ter age hoichilo 75...Desh er sirsho asthanio shobai shok prokash korachan...ter namajer janaja hoba Gulshad Azad mosjib baad Juhor,press club 3 pm...Azimpur kobor asthana dafon hoba.\\n\\nUNB family ai journalist er mrittu ta shok prokash korcha...\",2012-09-26T19:05:17+0000\\n261,249281981787004_419000621481805,\"Journalist Ataus Samad Jibon mrittur shondhikhona...\\nLife support a achan prothito josa jornalist Ataus Samad...Ter family desh bashir kacha dowa chayachan...UNB family ter rog mukti kamona korcha....\",2012-09-26T18:18:38+0000\\n262,249281981787004_419001581481709,\"Apni ja registration a course niachan ta ki thik acha?\\nKal fall 2012 semester er course drop daber last date without fine...Aki shatha kal registration korar last date..29 tarik class start hoba....\",2012-09-26T18:18:22+0000\\n263,249281981787004_418730094842191,\"Your home of education...plse join....\\n\\n\",2012-09-25T19:36:04+0000\\n265,249281981787004_418542734860927,\"Aj amader potishoder match...\\nASIA cup er final match er kotha hoito kao vula ni...Only 2 run er jonno amra Asia cup hat chara kori...Amader poti pokho chilo pakistan jader amra 12 years dhora kono formate cricket tai harata perchi na... 17 koti manush er valobashai jaga uthuk amader tiger ra...Record joy dia amader shopner super 8 chai...\\nBangle tigers der jonno UNB family pokha Shuvo kamona...\",2012-09-25T07:24:00+0000\\n266,249281981787004_417684351613432,\"Akti Ghoshona...\\nUNB er shatha thaker jonno shobai ka thanks.UNB kono member UNB kono news onno group a poriborton or Copy & paste korta perba na.Jodi kao ta kora toba group ka jania korta para...Ja kono songbad songstha tader unique news provide kora.R news ka respect kora news group members der daitto.Apnader shohojogita amader kammo...\\n//Onno group a UNB news provide kora oslil bakko use kora ter reply comments diya nijaka choto na korar jonno onurod korchi.\",2012-09-24T18:34:17+0000\\n269,249281981787004_418014198247114,\"Kal EEE/ETE dept. er Final registration start hocha....\\nFall 2012 semester er EEE & ETE dept. er registration kal onusthito hoba.11 am thaka different timing a registration hoba.Registration er jonno adviser er time & room notice board a ullak acha.Jana gacha 24 & 25 sept. dui day tai registration kora jaba,\",2012-09-23T19:26:06+0000\\n272,249281981787004_417630238285510,\"News update....Kal CSE/CTE registration hoba....\\nKal hortal er news janar por shober janar agroho chilo kal registration hocha kina.UNB pokho thakai CSE dept ka janano hoi.3 pm Dept. head Hasan sarwar sir er pokha Md.siraj amader janan agamikal sunday shara desh a hortal holao registration hoba.Hortal er karona registration off thakba na.Amader question chilo hortal er karona jodi kao present hota na para toba ki hoba.Er answer a siraj bolan 27 tarik porjonto registration er time acha.Jara kal registration korta parba na tara porobortita kora niba.Tini clearly bolan hortal holao registration kono poriborton,poribhordhon hocha na.Official shob kaj continue hoba.\",2012-09-22T18:15:34+0000\\n273,249281981787004_417632974951903,\"Wearing ID Card \\nin the UIU CAMPUSES\\n\\n   \\nATTENTION: \\nALL UIU STUDENTS !!! \\nIt is notified for general information of all UIU students that wearing ID Cards have been made mandatory for all UIU students for entering into the UIU Campuses effective from Fall 2012 Trimester.\\nUIU students willing to enter the UIU Campuses without ID Cards will be charged a fine of Tk 100/- payable at the UIU Finance & Accounts Dept.\",2012-09-22T17:57:52+0000\\n274,249281981787004_417632258285308,\"\"\"I have always believed that cowards never make history,history is created by people with courage and wisdom.Courage is individual,wisdom comes with experience.\"\"------------Obaydul kader MP.,Minister of communication...\",2012-09-22T15:54:34+0000\\n277,249281981787004_416892391692628,\"UIU CSE dept. er course offering kono notice board a nai...\\nNotice board a course offering kono information notice board a dakha jacha na.Mr.Monir janiachan a dhoroner miss take er jonno tini dukhito.23 tarik final registration er aga aro update kora final notice daya hoba.\",2012-09-20T11:08:17+0000\\n278,249281981787004_416891495026051,\"\"\"I think it has a more settled look. We are mostly playing the same set of players. There is depth. Some new players like Ziaur Rahman and Elias Sunny have come in and have done well. The experienced members are performing. I don\\xe2\\x80\\x99t like to make comparisons but this team has definitely played more games and has more Twenty20 experience.\"\"- Mashrafe Bin Mortaza said about the Bangladesh Cricket Team.\",2012-09-20T11:03:32+0000\\n279,249281981787004_416419778406556,\"T-20 world cup start holo...Kal bada porshu bangladesh er mission start hocha...Puro 16 koti jonota takia acha tiger der mukhar dika...\\n...Tiger der jonno onek onek shuvo kamona..Jago ....Jago Bangladesh\\n\\nOn photo-Sakib Al Hasan (Number -1 all rounder of cricketers in one day & test match) & Istiaq pervez Neloy (Senior sports correspondence of daily manob jomin)\\n\\nFrom Srilanka.....\",2012-09-18T21:16:38+0000\\n280,249281981787004_416319131749954,\"News of yesterday...\\nNondito actor Dilip chokroboti yesterday Farm gate er nij bashai mrittu boron korachan.Stage,TV drama ta oti porichito mukh.\"\"Posh faguner pala\"\" ter recent ovinito drama....Farm gate area ta university admission going student der shatha half pant pora ter adda hoito onakai miss korba....\\n\\nAi torun guni taroker mrittu ta UNB family shok prokash korcha.Amra shokola ter attar shanti kamona kori....\",2012-09-18T14:42:26+0000\\n281,249281981787004_415983538450180,\"UIU engineering class schedule is changed...\\nThe new class schedule will make without friday in a week from 9 am to 6:25 pm for under graduate students.Class time divided by 2 slot.Morning stot-1 start from 9 am & it will be continue to 12 pm.The remaining slot-2 start from 12:10 pm to 6:25 pm...\\n\\\\\\\\ The make up class timing will be decided on slot.\",2012-09-18T05:41:55+0000\\n282,249281981787004_415983735116827,\"Important News Update of uiu engineering students...\\n23 sept,Sunday=>Final registration of fall semester (11 am - 4 pm)\\n27 sept.=> Last date of course drop\\n29 Sept.=> Class begin\\n15 oct. => Last date of paying tuition fees\\n16 Nov. => Mid exam begin\",2012-09-18T05:34:35+0000\\n283,249281981787004_416053588443175,\"\"\"Tom Clancy\\'s Splinter Cell Conviction\"\"\\nOne of the choromest game i have ever played.\\nAe matro sesh korlam .\\nOnek interesting & onek ..............(ek kothai osadharon)\",2012-09-17T18:06:50+0000\\n284,249281981787004_415984071783460,UIU 2nd Convocation 13 February....,2012-09-17T13:50:04+0000\\n285,249281981787004_415313971850470,\"BANGLADESH BEATS ZIMBABWE BY 5 WICKETS!! (Practice Match)\\n\\nZimbabwe - 134/6 (20.0 Overs)\\nTaylor* 21(22), Sibanda 40(47)\\nShakib 16/1, Mahmudullah 20/1, Mashrafe 28/1, Razzak 21/2\\n\\nBangladesh - 135/5 (18.2 Overs)\\nZiaur Rahman* 26(20), Shakib Al Hassan 28(17), Mohammad Ashraful 38(25)\\nCremer 10/2 , Jarvis 19/0\\n\\nWell done tigers...!\",2012-09-15T09:59:26+0000\\n291,249281981787004_414355261946341,\"Join plse who come from Munshigonj district...\\n\\nhttp://www.facebook.com/groups/MadeInBikrumpur/\",2012-09-12T13:39:46+0000\\n292,249281981787004_414297561952111,\"Television ascha....\\nMostofa sarwar faruki direction er movie \"\"Television\"\".Bachalor,Made in bangladesh,Third person singular number er moto babasha sofol & national-international reputed movie er por  Television ascha.Next month a movie er audio album bazara asba.R ai shita sitol environment a ascha gram bangla romantic movie television.Movie tir world promo aj thaka prokashito hoicha.\",2012-09-12T09:46:36+0000\\n294,249281981787004_413270785388122,\"Semester final shes....Cholcha result publish....Jara valo result korcha tader congratulation...Jader kharap result hocha tara mona korba oi course er instructor nija valo number pai ni,tai amader kao dita chai na...Shober jonno UNB family pokho thaka shuvo kamona roylo.....\",2012-09-09T17:51:20+0000\\n295,249281981787004_412745235440677,\"Lux channel-I super star-2012 holan Samia...jini holan Rakhi(2011) er uttoshori\\n1st runner up Proshun,2nd Runner up- Samiha \\n\\nsamiha 2nd runner up er shatha shatha Close up beauty of smile jita nan.Sunsilk beauty of hair  Nadia,Ponds beauty of skin hocha Tarin.\",2012-09-09T17:42:02+0000\\n299,249281981787004_412430715472129,\"Hack hoba na fb account....!\\n\\n\",2012-09-06T21:30:36+0000\\n300,249281981787004_412412008807333,\"My UIU friends who need statistics all class slide...Plse register www.Unicampuz.com....then add me by my id \"\"SHAMIM SHUVO\"\"....All class slide I can provide u by my unplug page.....Thank u ...\",2012-09-06T20:13:49+0000\\n301,249281981787004_412404862141381,\"Result of CSI-233...Theory of Computing....\\n\\n// Amer onek classmate rai ai course a chilo....shobar valo result dakha amio happy...Well done my friends,,, \\n\\n\",2012-09-06T19:51:47+0000\\n302,249281981787004_412403425474858,\"LUX CHANNEL I SUPER STAR 2012 TOP 5 CONTESTANTS !!! Who is your favorite one ???\\nFrom left to right, Prosun, Shoma, Samiha, Samia, Zohra\\n\\nGrand final Friday 7:30 pm only on channel I\",2012-09-06T19:45:52+0000\\n304,249281981787004_412077872174080,\"Bangla movie ta top hero  bolta jader bujhai Salman Sha  somvoboto shobchay upora...Ter popularity akhon porjonto acha ta bujha jai jokhon viewers ra ter movie dakha.Aj 6 sept. Salman na farar desh a chola jaber shai din.Hoito akhono shober mona pora BTV ta shai top news of the day which was dead of salman....\\n\\nAi guni baktir bidahi attar shanti kamona korchi.....from UNB family.\",2012-09-05T22:01:27+0000\\n305,249281981787004_411703525544848,\"Kichu khon aga private TV channel a jounalist Nurul kabir,ABM Musa & Dr.Asif Nazrul economist minister Muhit er podotag dabi koran...Tader boktobbo hocha jara chorka support kora tara nijarao chor...R chor er hata desh er economy rakha thik hoba na....tara humayun Ahmad er \"\"Tui Rajaker\"\" dialogue onushara \"\"Tui chor\"\" bola akha dan\",2012-09-04T18:38:00+0000\\n309,249281981787004_410375712344296,Aj thaka electricitity unite price bercha....,2012-08-31T18:31:08+0000\\n311,249281981787004_410280839020450,\"Kal thaka uiu ta semester final start hocha,,,,\",2012-08-31T13:20:01+0000\\n313,249281981787004_410023625712838,\"Dhanmondi 8-A Seven-eleven shisa louncha ETV er ovijan telecast....\\nUIU er shatha seven-eleven shobai chana..but onakar jana chilo na vitorar kahini..ETV songbad kormi eid vacation a hotat jai.Gia dakha shisa er ovad use,oslil kormokando...Onara ata valid business bola dabi korcha.sangbadik ra dhanmondi 7-A er H2O shisha lounch a jai.shakhana aki obostha...Ullak joggo baper hocha okhana most of the member chilo 18-25 aged & private university student....but police bolcha tader next 3 month kichui korar nai...\",2012-08-30T19:06:46+0000\\n314,249281981787004_409706999077834,15 Sept. thaka 10 sec palse a mobile a kotha boler sujog hocha grahok der....,2012-08-30T05:51:50+0000\\n316,249281981787004_409271252454742,Kal shes hocha fall semester er class....Eid er por 1 week class shes hober modho dia fall semester er class shes hocha...1 Sept. hota final exam start hoba.,2012-08-28T16:36:55+0000\\n317,249281981787004_409270682454799,Dhaka University student accident nihoto howai Shahabag hota bangla motor & elephant road a bapok gari vangchur koracha chatro ligue...Nihoto student chatro ligue er kormi chilo....,2012-08-28T16:34:24+0000\\n318,249281981787004_408882445826956,\"Eid Natok: Mon Foringer Golpo- Part 01\\n\\nhttp://www.youtube.com/watch?v=czfaa1d4Ros\\n\\nEid Natok: Mon Foringer Golpo- Part 02\\n\\nhttp://www.youtube.com/watch?v=m3Lssr1BXTQ\",2012-08-27T18:16:18+0000\\n320,249281981787004_408345542547313,\"Topu & his wife...\\n\\nUNB family pokho thaka tader shuvo kamona thaklo\",2012-08-25T19:40:48+0000\\n321,249281981787004_408343429214191,Eid er holy day por Sunday thaka class start hocha....,2012-08-25T19:30:49+0000\\n323,249281981787004_407285002653367,\"Airtel present drama-kick off\\nDirecter- Radwan Roni \\nTelecast on NTV (Tomorrow at 11:30 pm)\",2012-08-22T06:20:14+0000\\n324,249281981787004_407282305986970,\"Shakib Al Hasan returns to number 1 test all rounder spot with 404 points. After poor performance at Lords, Jack Kalis dropped to no. 2.\",2012-08-22T06:04:21+0000\\n325,249281981787004_407016332680234,EID kamon jacha?....shober...share with us...,2012-08-21T07:22:29+0000\\n330,249281981787004_406539206061280,\"Kal EID-UL-FITRE...\\nDesh er shob er boro utshob.Ai shuvo logna UNB family shokol member ka janai antorik shubacha.Apner EID annondo howk bornil,Shukhi & Sundor.UNB family shatha thakar jonno shobaika dhonnobad...\",2012-08-19T16:53:46+0000\\n332,249281981787004_406460849402449,\"Catch Shakib Al Hasan in this Eid!:\\n\\n1st Festive Day:\\n- Stars Icon @8:15PM on Channel 9\\n- Joyuta @8:15PM on Ekattor TV\\n\\n2nd Festive Day:\\n- Eito Jibon @8:15PM on Channel 24\\n\\n5th Festive Day:\\n- Allrounder with Khaled Masud Sujon @9:00PM on BanglaVision\",2012-08-19T10:40:36+0000\\n336,249281981787004_406054809443053,\"Breaking News...\\nArab soho modho pracha Sunday 19 Aug Eid-Ul-Fitre utjapito hoba.Kal 18 Aug 30th Roja palon korban tara....\",2012-08-17T23:02:40+0000\\n337,249281981787004_406020539446480,UNB group er admin amer aj birthday...Ai shuvo logna amer ai news group er sokol member ka janai antorik shubacha.Apnader sohojogita amer agamir poth chola...Amer jonno dowa korban shobai...R kono news kaoka mormahoto korla ami antorik vaba dukhito...Shobaika onek dhonnobad....,2012-08-17T20:15:55+0000\\n338,249281981787004_406020896113111,\"Plse guess...Roja koita hoba 29 or 30....\\n\\nShaban & Rojob month 29 hoiwai aber 30 ramjan hoba...bolchan bislashok ra...apner mota mot ki?????\",2012-08-17T20:03:47+0000\\n341,249281981787004_405263096188891,\"Assignment of CSE-113, Electric Circuit...Section-A\\nNode & mesh Analylis ->all example,Ex 21-24,32-37\\nY-delta conversion -> 8.12 examples, Ex-48,49,50,52\\nSuper position theorem ->9.2 examples,Ex-2(a),3(a),4\\nThrevenin theorem -> 9.3 examples,Ex-8,9\\nchapter-13-> ex-38,39,44,45\\nchapter-14->14.3 & 14.5 only example\",2012-08-15T18:03:23+0000\\n342,249281981787004_405247792857088,\"News for CSE-225,226 students....\\n\\n. Assignment: due on 26th August during class time\\n    Problems from Chapter 4: 4, 5, 11, 12, 14, 15, 18, 19, 23, 24, 30, 34(a)\\n \\n1. Lab exam on problem solving using logisim + viva on 27th August (Monday)\\n    Sec A (Wednesday group): 10:00 AM to 1:00 PM, if you have class during that time inform earlier\\n    Sec B (Monday group): Regular class time, 3:20 PM - 6:20 PM\\n \\n2. Written final on 29th August (Wednesday) 6:30 PM - 8:30 PM, room number will be announced.\\n    \\nMore details & get all slide of lecture... visit....www.Unicampuz.com...In my profile (shamim Shuvo) unplugs\",2012-08-15T08:07:38+0000\\n344,249281981787004_404480269600507,16 Aug ordho dibosh & 18 Aug purno dibosh bank khola thakba...,2012-08-12T17:31:52+0000\\n345,249281981787004_404480109600523,\"Tamim Iqbal shines on SLPL debut. A great knock indeed by Bangladesh\\'s opener Tornado Tamim, in his first game in SLPL. He has really made Bangladesh proud by this blistering knock of 93* off 61 balls, which included 6 sixes. Tamim is playing for Wayamba United in SLPL. His team got a big target of 180 by Uthura Rudras. It seemed very big, but Wayamba\\'s openers didn\\'t let it look like big, as Tamim and Kamran just blew away Uthura\\'s bowling by making a magnificent opening stand of 176.\\n\\nCongratulation to Tamim from UNB\",2012-08-12T17:30:48+0000\\n347,249281981787004_403775936337607,\"Final class test ...Date & Syllabus...\\n\\nElectric Circuit of Section-A\\nG \\xe2\\x80\\x93 Chapter 13 [13.1, 13.3, 13.4, 13.5, 13.6, 13.7] {only the things covered in the class, follow class lecture very carefully.}\\nClass Test 4 syllabus: G Date: 12 august. Time: 9.20 AM\\n\\nStatistics of section-A\\nSyllabus-Sampling & estimation\\nDate-13 August,9 am\\n\\nPhysics-2\\nSyllabus- Postulates of kinetic theory of gas,Thermodinamic\\'s 1st law.\\nDate-13 August,11 am\\n\\nNews Service from...www.unicampuz.com\",2012-08-10T11:24:07+0000\\n348,249281981787004_403250726390128,plz like this page..,2012-08-10T05:53:15+0000\\n350,249281981787004_403400613041806,Friends Join And Registration here...for our uiu campus...,2012-08-09T11:16:02+0000\\n351,249281981787004_403393469709187,\"Electronic Circuit syllabus of section-A \\n\\nXclusive service from- www.unicampuz.com\",2012-08-09T06:12:43+0000\\n353,249281981787004_403237406391460,\"CSE dept, er Ifter party hoicha aj...\\nAi program a CSE dept. Head,University Pro-VC shoho onek senior teacher er pasha pashi present & X-students ra present chilo....\",2012-08-08T18:52:41+0000\\n354,249281981787004_403223619726172,Kal Jonamastomi Holy day er karona UIU er sokol class/exam & office close thakba...,2012-08-08T17:58:10+0000\\n356,249281981787004_402616976453503,\"General Meeting & Photo Sharing.\\nBring your photos and show us.\\nAugust 08, 2012\\nTime: 3.30 PM - 5:00 PM\\nRoom no: 212\\nUIU (Dhanmondi Campus)\\n\\n* Members of UIUP&JC are requested to participate\",2012-08-06T21:27:13+0000\\n357,249281981787004_402497189798815,Kal 7 Aug ...last day pre-registration of CSE/CTE,2012-08-06T13:45:08+0000\\n358,249281981787004_401628559885678,4 & 7 Aug...pre-registration for CSE......,2012-08-03T18:10:24+0000\\n361,249281981787004_401185459929988,Amer home district er news ta paya shotti shy feel korchi....Ader ki bichar hoba na???,2012-08-02T13:46:34+0000\\n362,249281981787004_401186196596581,\"Notice for CSE statistics course student...\\nFakruddin sir er daya final er 3 ta new slide www.unicampuz.com a amer unplug upload kora hoicha.Jodi karo proyojon hoi plse collect from there....thank u...\",2012-08-02T06:17:38+0000\\n363,249281981787004_401035863278281,1 am-5 am...shara desh a internet connection off thakba....,2012-08-01T18:06:55+0000\\n364,249281981787004_400979439950590,\"Oboshasa shawon & Majhar er nama hotta mamla ! ! !\\nHumayun Ahmad mrittu nia recent time BDnews24 er prokashito news nia somalochona r question er jhor otha.Ter result aj chittagong a Mahar Afroj shawon & Majhar ka dai kora hotta mamla kora hoicha.CID ka todonto korta bola hoicha...\",2012-08-01T13:57:57+0000\\n367,249281981787004_400737916641409,\"Humayun Ahmad er death certificate niao natokiota...\\n\\n\",2012-07-31T18:54:53+0000\\n368,249281981787004_400729099975624,\"A seminar on the topic of scientific miracles of the holy Qur\\'an followed by an Iftar party .\\n\\nSpeakers :\\n\\nprof. Dr. Chowdhury Mofizur Rahman\\nPro-vice Chancellor\\nUnited International University (UIU)\\n\\nDr. Khawza Iftekhar Uddin Ahmed\\nAssociate Professor ,EEE\\nUnited International University (UIU)\\n\\nMr. Feroz Ahmen Siddiky\\nLecturer, CSE\\nUnited International University (UIU)\\n\\nRegistration fee: 150 Tk\\n\\nRegistration opens from 29th July to 2nd august at UIU-SSC Booth\\n(Booth will be available at UIU campus 1 & 2 from 10:00am to 4:00 pm)\\n\\nFor details : https://www.facebook.com/events/265992460178280/\",2012-07-31T18:12:12+0000\\n369,249281981787004_400726903309177,\"Important news..\\n*Kal thaka ID card pora badhotamulok...Na carry korla 100 TK. fine\\n* 7 & 8 Aug will be pre-registration for CSE/CTE\",2012-07-31T18:03:24+0000\\n371,249281981787004_400387186676482,\"An Iftar party will be held at Sankar, \"\" Chayanat Sangaskriti Vaban\"\"\\nArrenge by UIU & Prothom-Alo (Bodle Jao, Bodle Dao)\\n\\nThose who want to attend send me Your Name and ID by Tomorrow (31 July) 12 pm. \\n\\n**No Registration Fee**\\n\\nDate: 31st July 2012\\nTime: 1:30 pm\\nVenue: Chayanat Sangaskriti Vaban,( Opposite of Sankar Plaza, Dhanmondi)\",2012-07-30T19:38:16+0000\\n372,249281981787004_400040356711165,\"CSE-225,226...DLD\\nClass test-4 will 7 Aug..\\nAfter eid week-monday will lab viva on logicim,wed will lab final\\n\\n*syllabus for look www.unicampuz.com\",2012-07-29T14:02:23+0000\\n373,249281981787004_400039386711262,\"CSE-113,Electric circuit,section-A...\\n*submite the assignment on mesh & node analysis before next sunday who wants to get bonus number on last ct \\n*Everyone should present 20 class out of 24.If anyone cannot follow the rule,he or she miss the grade A.\\nNoticed by Jahid,instructor of CSE.\",2012-07-29T13:57:37+0000\\n380,249281981787004_398962553485612,Next 28 July hoba 15 Aug er make up class...Don\\'t forget...,2012-07-25T21:06:06+0000\\n384,249281981787004_398649490183585,\"Nuhas polli ka aro boro korta chan shawon.....\\nHumayun ahmad ka dafoner por shawon media ta ter shopner kotha bolan...But aschorjar kotha hocha Humayun Ahmad kokhono ter nuhas polli ka institute rupa make korta chan ni.Ata ka uni kobor asthan banato chan ni...Shawon ter shopno dia ki Humayun er shopno vangta chan????\\n\\n\",2012-07-24T20:32:58+0000\\n386,249281981787004_398614256853775,\"Z-table...\\nIt is for only Statistics student of CSE student.\\n// Exclusive service from www.unicampuz.com\",2012-07-24T18:11:33+0000\\n387,249281981787004_398596696855531,\"A seminar on the topic of scientific miracles of the holy Qur\\'an followed by an Iftar party .\\n\\nSpeakers :\\n\\nprof. Dr. Chowdhury Mofizur Rahman\\nPro-vice Chancellor\\nUnited International University (UIU)\\n\\nDr. Khawza Iftekhar Uddin Ahmed\\nAssociate Professor ,EEE\\nUnited International University (UIU)\\n\\nMr. Feroz Ahmen Siddiky\\nLecturer, CSE\\nUnited International University (UIU)\\n\\nRegistration fee: 150 Tk\\n\\nRegistration opens from 29th July to 2nd august at UIU-SSC Booth\\n(Booth will be available at UIU campus 1 & 2 from 10:00am to 4:00 pm)\\n\\nFor details : https://www.facebook.com/events/265992460178280/\",2012-07-24T18:05:10+0000\\n389,249281981787004_396636700384864,\"MY FRIEND Nobosha Shabnom IS BADLY IN NEED OF A KIDNEY DONOR FOR HER MOTHER. IF ANYONE CAN HELP PLEASE CONTACT. Following is her status:\\n\\nATTN: KIDNEY DONOR RERUIRED- URGENT\\n\\nI am badly in a need of a kidney donor urgently for my Mother, patient currently on dialysis and is in her early 50\\'s. Blood group B- (B Negative). Friends, please contact me via email on nobosha_s@yahoo.com or ph no 01753701411. Pls provide contact number so that I can get in touch. Please help, this would give a new lease of life to the Mom.\\nFriendz plz let ur frndz n family know about this newz so that they could able to help us too. Thank you\",2012-07-23T14:57:22+0000\\n390,249281981787004_398214646893736,\"Seminar on: Preparing Yourself for the Local & Global Job Market\\n\\nArranged By: bdjobs & RENESA\\n\\nTime: 11:00 am-12:30 pm\\nDate: 24 July 2012\\nUIU Auditorium\\n\\nhttps://www.facebook.com/events/242399722546918/\",2012-07-23T12:11:06+0000\\n393,249281981787004_397684956946705,\"Masrafe all round performance a bangladesh er joy,Shatha bonus Ranking 4....\\nScore-\\nIreland-140/8(Masrafe 18/4)\\nBangladesh-141/8(Masrafe 30)\\nAi match win korai akhon T-20 ta bangladesh ranking a position 4\\n\\nCongratulation from UNB family 2 tigers\",2012-07-21T19:39:51+0000\\n396,249281981787004_397366016978599,\"News Update...\\nBangladesh is now at No.6 among the 16 countries in the ICC Twenty20 Ranking. India, West Indies, New Zealand is behind Bangladesh!!!\",2012-07-20T19:47:06+0000\\n397,249281981787004_397360106979190,\"Breaking News...\\nBangladesh Vs. Ireland er sasrudhokor match a bangladesh Ireland ka only 1 run a hariacha.Bangladesh toss a jita batting kora 20 over a 146 run kora(Nasir-50).Jobaba Ireland 20 over a 145 run korta somortho hoi....Ai match jater fola bangladesh kono 1st T-20 series jatar taste palo.....Congratulation bangle tigers.\",2012-07-20T19:19:30+0000\\n398,249281981787004_397353406979860,\"Dear group members,apnara sokala janan desh shara writer,TV drama & movie directer yesterday prithibi chara na farar desh a chola gachan.Amader childhood thakai oner book or TV drama or movie dakha bimohito hochi.Oner proty srodha janiya onaka ghira apner onuvoti gulo plse group wall a share korun.\",2012-07-20T18:44:57+0000\\n402,249281981787004_397026653679202,\"\"\"O karigor,Doyar sagor...Ogo doya moy\\nChanni poshor raita jano amer moron hoi...\"\"\\nSong tir srostha Nondito Humayun sir chola galan prithibi chara(Innalilhai wainna rajiun)..........Rat 11:20 pm ter mrittu songbad nischito kora TV channel gulo.Jana gacha kal Uk ta first rojer Jumar Namazer por oner first janaja unisthito hoba.\\n\\nUNB family ter mrittu ta govir shok prokash korcha...\",2012-07-19T19:18:44+0000\\n403,249281981787004_396937227021478,\"Desh er first school level a collage Government Laboratory High School er H.S.C (2012) Result....\\nTotal student=178,\\nA+ got 14 (11 from science & 3 from commerce)\\nF got 17 (12 from science & 5 from commerce)\\nRate of pass is 90.44\\n\\nDo u think is it enough good for our education system?\",2012-07-19T14:47:10+0000\\n404,249281981787004_396936437021557,\"Nondito writer Humayun Ahmed ka nia confusing news...!\\nLast kichu days dhora kichu online & TV media bolcha Humayun Ahmed er shorir er obostha sonkota purno.But Humayun family bolcha ter shorir er obostha stable acha.Onaka nibir porjobakhona rakha mana komai rakha hoyacha ta true na.\\n\\nHumayun sir er proty roylo UNB family er shuvo kamona.We hope he will come back soon...\",2012-07-19T14:43:52+0000\\n408,249281981787004_395847033797164,http://www.facebook.com/suma.akter.3551 & http://www.facebook.com/rimika.sumi?ref=ts..................... PLZ Report on this ID. its a fake ID...........,2012-07-16T05:16:12+0000\\n409,249281981787004_395846943797173,http://www.facebook.com/suma.akter.3551 & http://www.facebook.com/rimika.sumi?ref=ts..................... PLZ Report on this ID. its a fake ID...........,2012-07-16T05:15:51+0000\\n410,249281981787004_395813727133828,\"New Schedule for Romadan month...\\n1:30 hour er class hoba 1 hour,3 hour er class hoba 2 hour.\\n9-10 am,10:05-11:05 am,11:10-12:10,12:15-1:15,1:45-2:45,2:45-3:45\",2012-07-16T02:43:48+0000\\n411,249281981787004_395812227133978,\"Last day of course drops....\\nFor CSE/CTE/EEE/ETE...21 July\\nFor BBA & Economics dept....12 Aug\",2012-07-16T02:38:55+0000\\n412,249281981787004_395498193832048,Amader desh er first private tv channel ATN bangla er protista barshiki aj...Recently er chairman er bitorkito boktobba shara desh er journalist khubdho...last year gulo ta Mahfuzur Rahman & oner wife Eva Rahman ka nia live cake katar program attend kortan.Amon ki politician der moto lecture ditao dakha jato.But aber ta dakha jai ni...,2012-07-15T02:46:23+0000\\n413,249281981787004_395347147180486,CSE/CTE/EEE/ETE students der mid week shes holo aj...kal thaka jotharity class cholba....,2012-07-14T17:07:34+0000\\n415,249281981787004_394693670579167,\"Novia Nowrin...UIU CSE dept. lecturer ...\\nAi great teacher er aj birthday chilo....\\nUNB family pokha tar sukhi & sundor jibon kamona korchi...\",2012-07-12T22:25:00+0000\\n417,249281981787004_394436103938257,Hehe..........:D......rofl,2012-07-11T21:23:49+0000\\n419,249281981787004_393435850704949,\"Dear Members,\\nAll of you are cordially invited to our 3 days long FREE training session on\\n\\n1.Earth Quake\\n2.Fire Extinguish\\n3.First aid\\n4.Search rescue\\n\\nvenue : Fire Services and civil defense(asad gate).\\n\\nForms are available at UIU Reception,campus-1\\n\\nRegistration Deadline : 10th July, 2012\\n\\nTentative date of training:17-21 July, 2012\\n\\nFor details :https://www.facebook.com/events/430060283716857/?notif_t=plan_user_joined\",2012-07-08T18:17:49+0000\\n423,249281981787004_391673987547802,Friday will be holyday for Shob-e-borat....,2012-07-04T02:44:36+0000\\n424,249281981787004_390890124292855,learn some interactive API & technologies from this group by sharing you views...& ideas....http://www.facebook.com/groups/277709632264037/,2012-07-02T18:20:43+0000\\n427,249281981787004_390392304342637,\"Humayun Ahmad sustho achan...\\nYesterday rata akti private tv channel & BD news.com janai desh boranno writter Humayun sir er obostha sonkota purno.Onaka 3rd time operation kora hocha bolao janai.Toba aj channel i ta ter family nischito koran Humayun Ahmad er shorir sick.But onaka kono operation kora hoi ni.Bivinno media publish kora news er shotto ta nai.Humayun er family desh bashir kacha dowa chaychan..\\n*UNB publish kora news tir jonno antorik vaba dukhito.\",2012-07-01T19:31:07+0000\\n428,249281981787004_387603097954891,\"Shagor-Runi hotta bishoy a ATN bangla & ATN news chairman er bitorkito alochito comment...\\n\\n\",2012-07-01T17:08:28+0000\\n429,249281981787004_390278527687348,\"Pro VC sir birthday celebration....\\nUIU pro VC Mustafizur Rahman sir er birthday celebration korlo students,teachers & stuffs aki shatha.A upolokha Room number 113 ta bornil  shaja shajano hoi.A shomoi uiu er srisho porjai onakai present chilan....\\nUNB family pokho thaka ter jonno shuvo kamona thaklo....\\n\\n*kono picture pai ni.Kao pala plse upload korun.\",2012-07-01T14:14:24+0000\\n430,249281981787004_390068484375019,\"Humayun Ahmed er obostha sonkota purno...3rd time operation kora hoyacha ta ke...\\n\\n\",2012-07-01T02:28:47+0000\\n431,249281981787004_389903947724806,\"UIU theatre performs at Robindro Shorobor...\\nBristy vaja bikala dhanmondi Robindro shorobora UIU theatre present korlo tader performance.Bikala dorsok kom thaklao sondhai puro stage chottor manusha vora jai.Toba UIU students der uposthity kom chilo.Engineering student der tamon dakha jai ni.Different presentation r dance er notunotto program ka alada taste make kora. ...Dorshok der muhur muhur koro tali prove kora program ta success ful hoicha...... UNB family pokho thaka tader jonno shuvo kamona thaklo.\",2012-06-30T18:53:45+0000\\n432,249281981787004_388375341211000,\"CSI-113..Section-A\\nClass test on 30 June at 12:30 pm\\nRoom number is remain unchange\",2012-06-27T16:28:46+0000\\n433,249281981787004_388367901211744,\"<<< READ CAREFULLY>>>\\n\\nAt first I want to say SORRY on behalf of UIU CCC Governing Body to all the members of RENESA for giving the Certificate late.\\n\\nThe reason of late, some official problem and Mid week. But now we have fixed the date. Please make sure that you are joining with us.\\n\\nIn that day, we also arrange Orientation program for RENESA. \\n\\nEvery volunteer of Job Fair will get two certificate.\\n\\nAnd those who have attend the Seminar will get One Certificate.\\n\\nIf you don\\'t attend the orientation program you will not get the Certificate.\\n\\nSo Don\\'t miss the Event.\\n\\n>>Chief Guest: \\nProf. Dr. M. Rezwan Khan\\nVice-Chancellor, UIU\\n\\n>>Special Guest:\\nProf. Dr. Chowdhury Mofizur Rahman\\nPro Vice Chancello, UIU\\n\\nZareef Tamanna Matin\\nCountry Manager\\nChartered Institute of Management Accountants\\nBangladesh Branch\\n\\nShoibal K. Kanungo\\nCOO\\nProthom-Alojobs\\n\\nTime: 3:00-5:00 pm\\nDate: 18/07/2012\\nVenue: UIU Auditorium\\n\\n***Don\\'t Miss The Event. Be A Part of History.***\\n\\nhttps://www.facebook.com/events/323457507733913/\",2012-06-27T16:11:10+0000\\n436,249281981787004_387605387954662,\"Kishorgonj district a ATN bangla & ATN news er telecast bondho...dhaka shoho sara desh er kothao kothao er telecast off rakha hocha...\\n\\nUNB family yellow journalism er bipokha.Apnio ATN bangla er news program & ATN news borjon kora er protibad janan...\",2012-06-26T05:26:04+0000\\n438,249281981787004_387389551309579,\"R u get afraid to face any presentation?\\nR u feel shy to speak english towards the audience?\\nDo u know what will we present our any project?\\nIf ur above question answer is yes,yes & no,plse contact with me immediately.UIU authority early organize this kind of workshop... Now need ur support...\\nDetails more...Chok rakhun UNB ta\\n*Only 4r CSE dept. students\",2012-06-25T20:15:04+0000\\n439,249281981787004_386836048031596,\"koyek din dhory akta confusion a asi,   assa  Do-lencer na Dolen-sir konta right hoby..........\\nplz solve my confusion.........\",2012-06-24T19:07:15+0000\\n441,249281981787004_385871844794683,aj Monday make up class..mona acha to shober????,2012-06-22T19:00:37+0000\\n442,249281981787004_385410361507498,\"Dolancer desh er ortho pachar korcha...\\nMLM company Dolancer desh er ortho pachar korcha.R dolancer bolta amader desh a ja acha ta totally protarok chokro.dolencer actually 2011 a  start korlao amader desh er dolancer bolcha ara 1998 thaka start korcha....UIU ja sokol member gon er shatha add achan immediately a poth thaka fera asun.\\n*Details more about dolancer-Dakhun repeat telecast of ekushar chok\",2012-06-21T20:06:11+0000\\n445,249281981787004_384604374921430,\"Andaleb Rahman Partho MP. & his wife...\\nAkti family bia er program a tola ai picture...FB ta kono mp er picture a ato like & comments birol ghotona...Ullakho birodi rajnity joter ai nata songsoda airtel er biroddha joralo boktobber madhoma fb ta jonopriyota pan..\\n\\nAi sweet couple er jonno unb group er shuvo kamona....\",2012-06-20T02:42:49+0000\\n446,249281981787004_384377198277481,\"Coming Soon in UIU\\n\\n\",2012-06-19T17:15:05+0000\\n447,249281981787004_384184711630063,\"like us for exclusive T-shirts in a wallet friendly price.\\n\\nhttps://www.facebook.com/revxclothing\",2012-06-19T06:40:17+0000\\n448,249281981787004_384094571639077,\"Hi all!\\nVisit STALL-22 at \\'Dream Touch Beauty Corner 2012\\' & win wonderful giftz !!!\\nInvite friends to this event.\\nKeep sharing this post.\",2012-06-19T02:08:22+0000\\n449,249281981787004_383838794997988,\"Workshop on-\\nLeadership skill and MUN (Model UN)\\n22 June-Saturday (9.00am-6.00pm)\\nRegistration fee-200 BDT\\nRegistration date- 17 June - 21 June\\nVenue- GF1 (Campus 1)\\n(Seat limited)\\n\\nOrganized by UIU MUN Club\\nContact-uiumunclub@gmail.com\\nyou can find us at-https://www.facebook.com/groups/uiumunclub/\",2012-06-18T16:35:20+0000\\n450,249281981787004_383474025034465,Aj Monday class open thakba...Shob-e-meraj er bondho nai...,2012-06-18T03:08:08+0000\\n451,249281981787004_372396832808851,Kal thaka registration ....CSE/EEE/CTE/ETE...Class will be start from 30 May,2012-06-17T20:12:41+0000\\n452,249281981787004_383352868379914,\"<<< READ CAREFULLY >>>\\n\\nDue to some official problem we have to change our date. The program will be held on 23 June 2012\\n\\nhttps://www.facebook.com/events/323457507733913/\",2012-06-17T16:57:28+0000\\n453,249281981787004_382547358460465,Aj make up class...mona acha to?,2012-06-15T21:29:54+0000\\n454,249281981787004_382547061793828,\"Weather office er di mukhi comment...\\nYesterday weather office janiachilo next 2-3 days bristy kono somvabona nai.Aj akasha megh dakha bolcha dokhin sagora maghar ana gona royacha.Tai 3 no. signal....jai howk na kano shobai akhon borshar first bristy snan er opakhai...\",2012-06-15T21:28:54+0000\\n455,249281981787004_381482108566990,\"Orientation program of RENESA will be held on 21 June 2012.\\nAll the members of RENESA are requested to join this program.\\n\\nOn that day we also going to give the \"\"Certificate of Job Fair.\"\"\\n\\nEvery volunteer of Job Fair will get two certificate.\\n\\nAnd those who have attend the Seminar will gwt One Certificate.\\n\\nIf you don\\'t attend the orientation program Later on you will not get the Certificate.\\n\\nSo if you want the Certificate Join the Orientation Program.\\n\\nChief Guest:\\nProf. Dr. Rezwan Khan\\nVice-Chancellor, UIU\\n\\nSpecial Guest:\\nProf. Dr. Chowdhury Mofizur Rahman\\nPro Vice-Chancellor, UIU\\n\\nTime: 3:00- 5:00 pm\\nDate: 21 June 2012\\nVenue: UIU Auditorium\\n\\nhttps://www.facebook.com/events/323457507733913/?context=create\",2012-06-13T19:15:59+0000\\n457,249281981787004_380982138616987,\"Saturday will be the make up class of Sunday...\\nClass cancel-Electronic circuit,section-A on Saturday\",2012-06-12T19:25:54+0000\\n458,249281981787004_380176428697558,Rastai gari sonkot....kichu khon aga amer friend a news dilo...class continue kora hoba kina uiu authority kono decision dai ni...,2012-06-11T06:21:48+0000\\n462,249281981787004_378055622242972,\"CSE-226,DLD lab...Section-B\\nAdvance class of Monday will be held on 7 th June 3:20 pm.Next week,All the lab class will closed.\",2012-06-06T17:37:14+0000\\n464,249281981787004_376431709072030,\"CSI-113...Section-A\\nSunday class time change..12:10 pm er poriborta 9 am\",2012-06-03T20:40:26+0000\\n465,249281981787004_376431305738737,odhapok abdullah abu sayed sir rajnity bid der chor dakat na bola durnity baj bola uchit chilo.Kothar a osongoti gonotontro birodhi...ai comment ta korachan minister shajahan khan MP...Ak tv talk show ta ai kotha bolan...,2012-06-03T20:39:21+0000\\n467,249281981787004_374395102609024,\"Dear members,\\n Because of the quick and large scale of responses from students there will\\n be a workshop on PHP Programming. Details are given below.\\n\\n \"\"Workshop on Object Oriented PHP Programming\"\"\\n\\n Name of Instructor:\\n ASM Mobarak Hossain\\n Project Manager \\n Lone Star Apps.\\n\\n Schedule:\\n 8th To 30th June 2012\\n Friday 10.00-12.30 \\n Saturday 10.00 12.30 \\n\\n Registration Fees:\\n Member of Computer Club: 1000/=\\n Non Member: 1500/=\\n [Refreshment will be provided]\\n\\n Last date of Registration:\\n 6th June, 2012\\n\\n Registration process will be based on first come - first served & who is attend in last HTML & CSS Course.\\n The maximum participant for for this workshop has been decided to 25.\\n Registration:\\n 3rd June To 6 June at Registration Booth of 1st Floor.\\n\\n For furthermore queries, please feel free to contact with\\n\\n Al Kafi Khan\\n Lead, PHP Programming Field\\n UIU Computer Club\\n Cell: 01674791631\\n\\n---------------\\nThank You.\\nUIU Computer Club (UIUCCL)\",2012-06-01T12:20:38+0000\\n468,249281981787004_375039805877887,News published on facebook.What is ur thinking?,2012-06-01T12:03:05+0000\\n470,249281981787004_373510379364163,\"Amader desh er police akhon sontrasir chay voyaboho... \\n\\n\",2012-05-29T17:52:16+0000\\n471,249281981787004_373498069365394,\"\"\"Kal thaka class start kortacha,Aita kichu hoilo\"\"...UIU student der kotha\\nKal 30 May summer semester er class start hocha.Tana 2 weeks break er por ai hot weather er voy k mathai nia class korta hocha student der.\\n\\nUNB every members der jonno shuvo kamona thaklo...\",2012-05-29T17:28:42+0000\\n473,249281981787004_371582622890272,\"Hey guyz plz like our page n order now to pick ur fav 1....\\nREV X Clothing is providing u 100% export quality fabrics n print for ur style n comfort.also there are special discount of 10% if u buy 5 T\\'z.\",2012-05-26T04:21:00+0000\\n474,249281981787004_370854606296407,\"Young star singer Nancy jibona chondo poton...Media ongona sudhoi bissoy....\\n\\n\",2012-05-24T20:55:04+0000\\n475,249281981787004_370258606356007,New TV channel 24 aj start hocha...,2012-05-23T18:32:31+0000\\n476,249281981787004_370258296356038,\"Buriganga nodir opara thaka start kora Munshigonj er ak ongsho electricity totally off...Yesterday power house er ognikanda a obostha tairy hoicha.Next kichu days a obostha thaker possibility acha.....News from Al Amin (CSE,UIU)\",2012-05-23T18:31:45+0000\\n477,249281981787004_369792419735959,\"Picture of wedding ceremony of Sampa mam & Abdullah Sir\\n*Group member der onuroda aro akti picture\\n \\nPhographer-Jubair Bin Iqbal (CSE,UIU)\",2012-05-23T11:40:16+0000\\n478,249281981787004_369788016403066,\"Spring semester 2012...Total result is published...\\n\\n\",2012-05-22T20:43:39+0000\\n480,249281981787004_368652253183309,\"Picture of wedding ceremony of Sampa mam & Abdullah Sir\\n\\nPhographer-Jubair Bin Iqbal (CSE,UIU)\",2012-05-20T18:54:45+0000\\n481,249281981787004_367480596633808,\"Sampa Sharier Mam & Abdullah Sir...\\nUIU CSE dept. er lecturer dujon.Recently ak jak jomok poribasha tader shuvo porinoy er program onusthito hoi.A program a UIU onek senior teachers present chilo.\\n\\nUNB Family pokho thaka onek Shuvo kamona thaklo tader jonno.\\n\\n*Program er kono picture collect korta pari ni.This picture is collected from facebook.\",2012-05-18T13:55:34+0000\\n482,249281981787004_367471303301404,\"Close up 1 2012 hota jacha khub early...\\nDesh er shob chay popular reality show Close up 1 tomakai khucha bangladesh er 4th asor khub early start hoba.Program event organizer Ntv chairman yesterday a kotha janan.Nolok,Salma,Liza er por ka hoba close up 1 satai dakhar opakha...Toba purboshori der barthotai ai program er image haria gacha bola mona koran sadharon viwers.\",2012-05-18T13:34:23+0000\\n483,249281981787004_366983043350230,\"As you may know, for some unavoidable reasons we are forced to change\\ntime schedule of \"\"Two Days Workshop on Necessary Tools for Basic Web\\nDevelopment\"\".\\nNew batch time schedule are:\\n\\nBatch II: (New Dates)\\nDay 1. 18th May, Friday (10am - 3pm)\\nDay 2. 19th May, Saturday (10am - 3pm)  \\n\\nBatch I: (New Dates)\\nDay 1. 20th May, Sunday (10am - 3pm)\\nDay 2. 21th May, Monday (10am - 3pm)\\n\\n--\\nThank You\\nUIU Computer Club (UIUCCL)\",2012-05-17T16:23:16+0000\\n484,249281981787004_366911763357358,\"Emergency Blood Needed...\\nBlood Group-A+\\nCare Hospital,Ashad gate\\nContact-0171600900(Lewis)\",2012-05-17T13:52:39+0000\\n485,249281981787004_366454453403089,\"For the first time of ESAB [Engineering Students Association of Bangladesh] history are going to arrange an inter-university article writing contest. The contest will bring out the innovative thoughts from the future engineers of different public and private universities. This contest is not all about an abstract event as ESAB is willing to work with the top most innovative thinking for the betterment of our beloved motherland.\\nTopics:\\n\\n*Technological Innovation in future Agricultural Development in Bangladesh.\\n\\n*Technology and Crime Control in Bangladesh.\\n\\n*Application of Technologies to make transparent administration system in Bangladesh.\\nhttp://www.facebook.com/events/414684398551595/\",2012-05-16T18:19:20+0000\\n487,249281981787004_364607623587772,\"Final Registration of Summer semester 2012 for CSE/CTE/EEE/ETE...\\n28 & 29 May....from 11 am to 6:30 pm\",2012-05-13T19:11:07+0000\\n488,249281981787004_364319353616599,\"Sagor-Runi Hottakandar sustho todonter dabita journalist der obosthan kormoshuchi\\n\\nUNB all members should be join this program....\\n\\nhttp://www.facebook.com/events/401564323199757/\",2012-05-12T22:13:38+0000\\n491,249281981787004_363045280410673,\"netbook sell .......\\n\\ncolor: black\\nbrand: acer\\ncpu: amd dual core\\nram: 2gb\\nhdd: 500gb\\nuse: 1 month\\nbattary: 6 cell( 8hour stand by)\\n11month warranty\\nurgent sell\\n\\ncontact to 01674420817\",2012-05-10T16:34:45+0000\\n492,249281981787004_362559297125938,\"Spring semester shes hocha...First time CSE/EEE/CTE/ETE dept. a 2 ta mid er poriborta 1 ta mid holo.Apni ki mona koran ata perfect decision chilo????\\n\\nAmi mona kori na....\",2012-05-10T15:44:33+0000\\n493,249281981787004_360794777302390,\"Boddho purnima holy day ta university gate close...\\nHotat korai UIU authority aj holy day korar decision nai.holy day ta campus gate close thakba sata onek student er kachai chilo hotasha jonok.last hortal kingba 1 May campus open chilo...Sondhai gate a shamna student  der mombati nia porar drissho chokha pora...ai ghotonai student der khubdo protikria sristy hoi...\",2012-05-06T20:30:10+0000\\n494,249281981787004_359661300749071,\"Alochito Model & Actress Sadia Jahan Prova Hoimonty choritra acting dia abero media ta shorob hota cholachan...Ntv ta 8 May 9 pm ai drama ti telecast hoba.Ta chara Aj 5 May Bangla vision a \"\"Amer Ami\"\" program a akti shakhatker diban tini..Jana gacha oi program a ter life somporka open discuss korachan tini... \\n\\n\",2012-05-05T08:21:43+0000\\n495,249281981787004_358412684207266,\"6 May Boddho purnima Holy day...\\nGovernment Buddho Purnima er new holy day nidharon korcha.Oi day HSC exam cancel kora hoicha...UIU authority a bapara akhono kichu janai ni...\",2012-05-03T03:05:33+0000\\n496,249281981787004_358707994177735,\"Jahangir Nogor university er andolon roto student er pokho nilan Kobori Sarwar MP\\n\\n\",2012-05-03T02:48:41+0000\\n497,249281981787004_358399890875212,\"Faculty-Abu Wasib Sir of  Simulation (EEE 110) Final exam will be held on Friday at 4.30 pm\\nevery student is requested to be present nearby Abu Wasib Sir\\'s room\",2012-05-02T16:56:44+0000\\n498,249281981787004_358366057545262,\"For some unavoidable reasons we are forced to change time schedule of the Batch 2 of \"\"Two Days Workshop on Necessary Tools for Basic Web Development\"\". Dates of Batch 1 are unchanged.\\nNew batch time schedule are:\\n\\nBatch I: (Unchanged)\\nDay 1. 19th May, Saturday (10am - 3pm)\\nDay 2. 20th May, Sunday (10am - 3pm)\\n\\nBatch II: (New Dates)\\nDay 1. 17th May, Thursday (10am - 3pm)\\nDay 2. 18th May, Friday (10am - 3pm)\\n\\nFor Registration & details, go to: www.uiucomputerclub.com\\n\\n------------\\nThank you\\nUIU Computer Club\",2012-05-02T15:42:10+0000\\n'}"
            ]
          },
          "metadata": {
            "tags": []
          },
          "execution_count": 60
        }
      ]
    },
    {
      "cell_type": "code",
      "metadata": {
        "id": "kcZM93nYoB5y",
        "colab_type": "code",
        "colab": {}
      },
      "source": [
        ""
      ],
      "execution_count": 0,
      "outputs": []
    }
  ]
}